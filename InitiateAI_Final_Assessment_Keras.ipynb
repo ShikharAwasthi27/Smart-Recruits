{
 "cells": [
  {
   "cell_type": "markdown",
   "metadata": {
    "colab_type": "text",
    "id": "S4v9W5FGtDb6"
   },
   "source": [
    "## Imports"
   ]
  },
  {
   "cell_type": "code",
   "execution_count": 0,
   "metadata": {
    "colab": {
     "base_uri": "https://localhost:8080/",
     "height": 314
    },
    "colab_type": "code",
    "id": "cRYAEkLgXBao",
    "outputId": "33c4cda5-e7c8-41e3-a548-638e769fceae"
   },
   "outputs": [
    {
     "name": "stdout",
     "output_type": "stream",
     "text": [
      "Collecting pgeocode\n",
      "  Downloading https://files.pythonhosted.org/packages/86/44/519e3db3db84acdeb29e24f2e65991960f13464279b61bde5e9e96909c9d/pgeocode-0.2.1-py2.py3-none-any.whl\n",
      "Requirement already satisfied: pandas in /usr/local/lib/python3.6/dist-packages (from pgeocode) (1.0.3)\n",
      "Requirement already satisfied: numpy in /usr/local/lib/python3.6/dist-packages (from pgeocode) (1.18.4)\n",
      "Requirement already satisfied: requests in /usr/local/lib/python3.6/dist-packages (from pgeocode) (2.23.0)\n",
      "Requirement already satisfied: pytz>=2017.2 in /usr/local/lib/python3.6/dist-packages (from pandas->pgeocode) (2018.9)\n",
      "Requirement already satisfied: python-dateutil>=2.6.1 in /usr/local/lib/python3.6/dist-packages (from pandas->pgeocode) (2.8.1)\n",
      "Requirement already satisfied: chardet<4,>=3.0.2 in /usr/local/lib/python3.6/dist-packages (from requests->pgeocode) (3.0.4)\n",
      "Requirement already satisfied: idna<3,>=2.5 in /usr/local/lib/python3.6/dist-packages (from requests->pgeocode) (2.9)\n",
      "Requirement already satisfied: certifi>=2017.4.17 in /usr/local/lib/python3.6/dist-packages (from requests->pgeocode) (2020.4.5.1)\n",
      "Requirement already satisfied: urllib3!=1.25.0,!=1.25.1,<1.26,>=1.21.1 in /usr/local/lib/python3.6/dist-packages (from requests->pgeocode) (1.24.3)\n",
      "Requirement already satisfied: six>=1.5 in /usr/local/lib/python3.6/dist-packages (from python-dateutil>=2.6.1->pandas->pgeocode) (1.12.0)\n",
      "Installing collected packages: pgeocode\n",
      "Successfully installed pgeocode-0.2.1\n"
     ]
    },
    {
     "name": "stderr",
     "output_type": "stream",
     "text": [
      "/usr/local/lib/python3.6/dist-packages/statsmodels/tools/_testing.py:19: FutureWarning: pandas.util.testing is deprecated. Use the functions in the public API at pandas.testing instead.\n",
      "  import pandas.util.testing as tm\n"
     ]
    }
   ],
   "source": [
    "!pip install pgeocode\n",
    "import pandas as pd\n",
    "import numpy as np\n",
    "import matplotlib.pyplot as plt\n",
    "import seaborn as sns\n",
    "from datetime import datetime\n",
    "import pgeocode\n",
    "from sklearn.model_selection import train_test_split\n",
    "from sklearn import linear_model\n",
    "from sklearn.linear_model import LogisticRegression\n",
    "from sklearn.ensemble import RandomForestClassifier\n",
    "from xgboost.sklearn import XGBClassifier\n",
    "from sklearn import svm\n",
    "from sklearn.metrics import confusion_matrix,roc_curve,auc,accuracy_score,roc_auc_score,classification_report\n",
    "%matplotlib inline"
   ]
  },
  {
   "cell_type": "code",
   "execution_count": 0,
   "metadata": {
    "colab": {},
    "colab_type": "code",
    "id": "yC6WQSU_XewS"
   },
   "outputs": [],
   "source": [
    "data=pd.read_csv(r'/content/drive/My Drive/Train_gQ1XM0h.csv')"
   ]
  },
  {
   "cell_type": "code",
   "execution_count": 0,
   "metadata": {
    "colab": {
     "base_uri": "https://localhost:8080/",
     "height": 218
    },
    "colab_type": "code",
    "id": "aYNwh5nRXlQC",
    "outputId": "b8ad5dcc-b4f2-4e07-f356-9e60c07283ce"
   },
   "outputs": [
    {
     "data": {
      "text/html": [
       "<div>\n",
       "<style scoped>\n",
       "    .dataframe tbody tr th:only-of-type {\n",
       "        vertical-align: middle;\n",
       "    }\n",
       "\n",
       "    .dataframe tbody tr th {\n",
       "        vertical-align: top;\n",
       "    }\n",
       "\n",
       "    .dataframe thead th {\n",
       "        text-align: right;\n",
       "    }\n",
       "</style>\n",
       "<table border=\"1\" class=\"dataframe\">\n",
       "  <thead>\n",
       "    <tr style=\"text-align: right;\">\n",
       "      <th></th>\n",
       "      <th>ID</th>\n",
       "      <th>Office_PIN</th>\n",
       "      <th>Application_Receipt_Date</th>\n",
       "      <th>Applicant_City_PIN</th>\n",
       "      <th>Applicant_Gender</th>\n",
       "      <th>Applicant_BirthDate</th>\n",
       "      <th>Applicant_Marital_Status</th>\n",
       "      <th>Applicant_Occupation</th>\n",
       "      <th>Applicant_Qualification</th>\n",
       "      <th>Manager_DOJ</th>\n",
       "      <th>Manager_Joining_Designation</th>\n",
       "      <th>Manager_Current_Designation</th>\n",
       "      <th>Manager_Grade</th>\n",
       "      <th>Manager_Status</th>\n",
       "      <th>Manager_Gender</th>\n",
       "      <th>Manager_DoB</th>\n",
       "      <th>Manager_Num_Application</th>\n",
       "      <th>Manager_Num_Coded</th>\n",
       "      <th>Manager_Business</th>\n",
       "      <th>Manager_Num_Products</th>\n",
       "      <th>Manager_Business2</th>\n",
       "      <th>Manager_Num_Products2</th>\n",
       "      <th>Business_Sourced</th>\n",
       "    </tr>\n",
       "  </thead>\n",
       "  <tbody>\n",
       "    <tr>\n",
       "      <th>0</th>\n",
       "      <td>FIN1000001</td>\n",
       "      <td>842001</td>\n",
       "      <td>4/16/2007</td>\n",
       "      <td>844120.0</td>\n",
       "      <td>M</td>\n",
       "      <td>12/19/1971</td>\n",
       "      <td>M</td>\n",
       "      <td>Others</td>\n",
       "      <td>Graduate</td>\n",
       "      <td>11/10/2005</td>\n",
       "      <td>Level 1</td>\n",
       "      <td>Level 2</td>\n",
       "      <td>3.0</td>\n",
       "      <td>Confirmation</td>\n",
       "      <td>M</td>\n",
       "      <td>2/17/1978</td>\n",
       "      <td>2.0</td>\n",
       "      <td>1.0</td>\n",
       "      <td>335249.0</td>\n",
       "      <td>28.0</td>\n",
       "      <td>335249.0</td>\n",
       "      <td>28.0</td>\n",
       "      <td>0</td>\n",
       "    </tr>\n",
       "    <tr>\n",
       "      <th>1</th>\n",
       "      <td>FIN1000002</td>\n",
       "      <td>842001</td>\n",
       "      <td>4/16/2007</td>\n",
       "      <td>844111.0</td>\n",
       "      <td>M</td>\n",
       "      <td>2/17/1983</td>\n",
       "      <td>S</td>\n",
       "      <td>Others</td>\n",
       "      <td>Class XII</td>\n",
       "      <td>11/10/2005</td>\n",
       "      <td>Level 1</td>\n",
       "      <td>Level 2</td>\n",
       "      <td>3.0</td>\n",
       "      <td>Confirmation</td>\n",
       "      <td>M</td>\n",
       "      <td>2/17/1978</td>\n",
       "      <td>2.0</td>\n",
       "      <td>1.0</td>\n",
       "      <td>335249.0</td>\n",
       "      <td>28.0</td>\n",
       "      <td>335249.0</td>\n",
       "      <td>28.0</td>\n",
       "      <td>1</td>\n",
       "    </tr>\n",
       "    <tr>\n",
       "      <th>2</th>\n",
       "      <td>FIN1000003</td>\n",
       "      <td>800001</td>\n",
       "      <td>4/16/2007</td>\n",
       "      <td>844101.0</td>\n",
       "      <td>M</td>\n",
       "      <td>1/16/1966</td>\n",
       "      <td>M</td>\n",
       "      <td>Business</td>\n",
       "      <td>Class XII</td>\n",
       "      <td>5/27/2006</td>\n",
       "      <td>Level 1</td>\n",
       "      <td>Level 1</td>\n",
       "      <td>2.0</td>\n",
       "      <td>Confirmation</td>\n",
       "      <td>M</td>\n",
       "      <td>3/3/1969</td>\n",
       "      <td>0.0</td>\n",
       "      <td>0.0</td>\n",
       "      <td>357184.0</td>\n",
       "      <td>24.0</td>\n",
       "      <td>357184.0</td>\n",
       "      <td>24.0</td>\n",
       "      <td>0</td>\n",
       "    </tr>\n",
       "    <tr>\n",
       "      <th>3</th>\n",
       "      <td>FIN1000004</td>\n",
       "      <td>814112</td>\n",
       "      <td>4/16/2007</td>\n",
       "      <td>814112.0</td>\n",
       "      <td>M</td>\n",
       "      <td>2/3/1988</td>\n",
       "      <td>S</td>\n",
       "      <td>Salaried</td>\n",
       "      <td>Class XII</td>\n",
       "      <td>8/21/2003</td>\n",
       "      <td>Level 1</td>\n",
       "      <td>Level 3</td>\n",
       "      <td>4.0</td>\n",
       "      <td>Confirmation</td>\n",
       "      <td>F</td>\n",
       "      <td>8/14/1978</td>\n",
       "      <td>0.0</td>\n",
       "      <td>0.0</td>\n",
       "      <td>318356.0</td>\n",
       "      <td>22.0</td>\n",
       "      <td>318356.0</td>\n",
       "      <td>22.0</td>\n",
       "      <td>0</td>\n",
       "    </tr>\n",
       "    <tr>\n",
       "      <th>4</th>\n",
       "      <td>FIN1000005</td>\n",
       "      <td>814112</td>\n",
       "      <td>4/16/2007</td>\n",
       "      <td>815351.0</td>\n",
       "      <td>M</td>\n",
       "      <td>7/4/1985</td>\n",
       "      <td>M</td>\n",
       "      <td>Others</td>\n",
       "      <td>Class XII</td>\n",
       "      <td>5/8/2006</td>\n",
       "      <td>Level 1</td>\n",
       "      <td>Level 1</td>\n",
       "      <td>2.0</td>\n",
       "      <td>Confirmation</td>\n",
       "      <td>M</td>\n",
       "      <td>2/7/1971</td>\n",
       "      <td>2.0</td>\n",
       "      <td>1.0</td>\n",
       "      <td>230402.0</td>\n",
       "      <td>17.0</td>\n",
       "      <td>230402.0</td>\n",
       "      <td>17.0</td>\n",
       "      <td>0</td>\n",
       "    </tr>\n",
       "  </tbody>\n",
       "</table>\n",
       "</div>"
      ],
      "text/plain": [
       "           ID  Office_PIN  ... Manager_Num_Products2  Business_Sourced\n",
       "0  FIN1000001      842001  ...                  28.0                 0\n",
       "1  FIN1000002      842001  ...                  28.0                 1\n",
       "2  FIN1000003      800001  ...                  24.0                 0\n",
       "3  FIN1000004      814112  ...                  22.0                 0\n",
       "4  FIN1000005      814112  ...                  17.0                 0\n",
       "\n",
       "[5 rows x 23 columns]"
      ]
     },
     "execution_count": 3,
     "metadata": {
      "tags": []
     },
     "output_type": "execute_result"
    }
   ],
   "source": [
    "data.head()"
   ]
  },
  {
   "cell_type": "code",
   "execution_count": 0,
   "metadata": {
    "colab": {
     "base_uri": "https://localhost:8080/",
     "height": 69
    },
    "colab_type": "code",
    "id": "qsa2lEcrX5RL",
    "outputId": "b7fdf31c-6f2c-46d0-9d29-e2daefb0ca75"
   },
   "outputs": [
    {
     "data": {
      "text/plain": [
       "0    0.65708\n",
       "1    0.34292\n",
       "Name: Business_Sourced, dtype: float64"
      ]
     },
     "execution_count": 4,
     "metadata": {
      "tags": []
     },
     "output_type": "execute_result"
    }
   ],
   "source": [
    "data['Business_Sourced'].value_counts(normalize=True)"
   ]
  },
  {
   "cell_type": "code",
   "execution_count": 0,
   "metadata": {
    "colab": {
     "base_uri": "https://localhost:8080/",
     "height": 297
    },
    "colab_type": "code",
    "id": "3yRLK-dxYBNo",
    "outputId": "1fc6aea1-0f38-420e-b0d6-82eb61a9ae76"
   },
   "outputs": [
    {
     "data": {
      "text/plain": [
       "<matplotlib.axes._subplots.AxesSubplot at 0x7f9cf4938828>"
      ]
     },
     "execution_count": 5,
     "metadata": {
      "tags": []
     },
     "output_type": "execute_result"
    },
    {
     "data": {
      "image/png": "[encoded data removed]",
      "text/plain": [
       "<Figure size 432x288 with 1 Axes>"
      ]
     },
     "metadata": {
      "needs_background": "light",
      "tags": []
     },
     "output_type": "display_data"
    }
   ],
   "source": [
    "sns.countplot(data['Business_Sourced'])"
   ]
  },
  {
   "cell_type": "code",
   "execution_count": 0,
   "metadata": {
    "colab": {
     "base_uri": "https://localhost:8080/",
     "height": 34
    },
    "colab_type": "code",
    "id": "JbP3qh27X7Gr",
    "outputId": "3775bb34-f587-4516-a6f8-0cf2902dcfea"
   },
   "outputs": [
    {
     "data": {
      "text/plain": [
       "(9527, 23)"
      ]
     },
     "execution_count": 6,
     "metadata": {
      "tags": []
     },
     "output_type": "execute_result"
    }
   ],
   "source": [
    "data.shape"
   ]
  },
  {
   "cell_type": "code",
   "execution_count": 0,
   "metadata": {
    "colab": {
     "base_uri": "https://localhost:8080/",
     "height": 432
    },
    "colab_type": "code",
    "id": "tD9PUHBjX9bq",
    "outputId": "4bc04980-0ce6-4d47-aadd-18299f49e393"
   },
   "outputs": [
    {
     "data": {
      "text/plain": [
       "ID                                0\n",
       "Office_PIN                        0\n",
       "Application_Receipt_Date          0\n",
       "Applicant_City_PIN               97\n",
       "Applicant_Gender                 67\n",
       "Applicant_BirthDate              73\n",
       "Applicant_Marital_Status         73\n",
       "Applicant_Occupation           1221\n",
       "Applicant_Qualification          86\n",
       "Manager_DOJ                     683\n",
       "Manager_Joining_Designation     683\n",
       "Manager_Current_Designation     683\n",
       "Manager_Grade                   683\n",
       "Manager_Status                  683\n",
       "Manager_Gender                  683\n",
       "Manager_DoB                     683\n",
       "Manager_Num_Application         683\n",
       "Manager_Num_Coded               683\n",
       "Manager_Business                683\n",
       "Manager_Num_Products            683\n",
       "Manager_Business2               683\n",
       "Manager_Num_Products2           683\n",
       "Business_Sourced                  0\n",
       "dtype: int64"
      ]
     },
     "execution_count": 7,
     "metadata": {
      "tags": []
     },
     "output_type": "execute_result"
    }
   ],
   "source": [
    "data.isnull().sum()"
   ]
  },
  {
   "cell_type": "markdown",
   "metadata": {
    "colab_type": "text",
    "id": "nuAdOklGtMI7"
   },
   "source": [
    "## Feature Transformation & Engineering"
   ]
  },
  {
   "cell_type": "markdown",
   "metadata": {
    "colab_type": "text",
    "id": "Lqt_J0qhtSzl"
   },
   "source": [
    "### Dealing with missing values"
   ]
  },
  {
   "cell_type": "code",
   "execution_count": 0,
   "metadata": {
    "colab": {
     "base_uri": "https://localhost:8080/",
     "height": 104
    },
    "colab_type": "code",
    "id": "PraSLVDsYGHj",
    "outputId": "266192a1-3b1b-4916-a196-5ce735e3bdf2"
   },
   "outputs": [
    {
     "name": "stderr",
     "output_type": "stream",
     "text": [
      "/usr/local/lib/python3.6/dist-packages/ipykernel_launcher.py:3: SettingWithCopyWarning: \n",
      "A value is trying to be set on a copy of a slice from a DataFrame\n",
      "\n",
      "See the caveats in the documentation: https://pandas.pydata.org/pandas-docs/stable/user_guide/indexing.html#returning-a-view-versus-a-copy\n",
      "  This is separate from the ipykernel package so we can avoid doing imports until\n"
     ]
    }
   ],
   "source": [
    "for i in data.index:\n",
    "    if(len(str(data['Applicant_City_PIN'][i]))<6):\n",
    "        data['Applicant_City_PIN'][i]=data['Office_PIN'][i]\n",
    "data['Applicant_Gender'].fillna(data['Applicant_Gender'].mode()[0],inplace=True)    \n",
    "data['Applicant_BirthDate'].fillna(data['Applicant_BirthDate'].mode()[0],inplace=True)\n",
    "data['Applicant_Marital_Status'].fillna(data['Applicant_Marital_Status'].mode()[0],inplace=True)\n",
    "data['Applicant_Occupation'].fillna(data['Applicant_Occupation'].mode()[0],inplace=True)\n",
    "data['Applicant_Qualification'].fillna(data['Applicant_Qualification'].mode()[0],inplace=True)\n",
    "data['Manager_DOJ'].fillna(data['Manager_DOJ'].mode()[0],inplace=True)\n",
    "data['Manager_Joining_Designation'].fillna(data['Manager_Joining_Designation'].mode()[0],inplace=True)\n",
    "data['Manager_Current_Designation'].fillna(data['Manager_Current_Designation'].mode()[0],inplace=True)\n",
    "data['Manager_Grade'].fillna(data['Manager_Grade'].mode()[0],inplace=True)\n",
    "data['Manager_Status'].fillna(data['Manager_Status'].mode()[0],inplace=True)\n",
    "data['Manager_Gender'].fillna(data['Manager_Gender'].mode()[0],inplace=True)\n",
    "data['Manager_DoB'].fillna(data['Manager_DoB'].mode()[0],inplace=True)\n",
    "data['Manager_Num_Application'].fillna(data['Manager_Num_Application'].mode()[0],inplace=True)\n",
    "data['Manager_Num_Coded'].fillna(data['Manager_Num_Coded'].mode()[0],inplace=True)\n",
    "data['Manager_Business'].fillna(data['Manager_Business'].median(),inplace=True)\n",
    "data['Manager_Num_Products'].fillna(data['Manager_Num_Products'].median(),inplace=True)\n",
    "data['Manager_Business2'].fillna(data['Manager_Business2'].median(),inplace=True)\n",
    "data['Manager_Num_Products2'].fillna(data['Manager_Num_Products2'].median(),inplace=True)\n",
    "#data.dropna(how='any',inplace=True)"
   ]
  },
  {
   "cell_type": "code",
   "execution_count": 0,
   "metadata": {
    "colab": {
     "base_uri": "https://localhost:8080/",
     "height": 432
    },
    "colab_type": "code",
    "id": "t6lQsN-7YLev",
    "outputId": "2bab6f32-8745-441a-d153-224800b875c7"
   },
   "outputs": [
    {
     "data": {
      "text/plain": [
       "ID                             0\n",
       "Office_PIN                     0\n",
       "Application_Receipt_Date       0\n",
       "Applicant_City_PIN             0\n",
       "Applicant_Gender               0\n",
       "Applicant_BirthDate            0\n",
       "Applicant_Marital_Status       0\n",
       "Applicant_Occupation           0\n",
       "Applicant_Qualification        0\n",
       "Manager_DOJ                    0\n",
       "Manager_Joining_Designation    0\n",
       "Manager_Current_Designation    0\n",
       "Manager_Grade                  0\n",
       "Manager_Status                 0\n",
       "Manager_Gender                 0\n",
       "Manager_DoB                    0\n",
       "Manager_Num_Application        0\n",
       "Manager_Num_Coded              0\n",
       "Manager_Business               0\n",
       "Manager_Num_Products           0\n",
       "Manager_Business2              0\n",
       "Manager_Num_Products2          0\n",
       "Business_Sourced               0\n",
       "dtype: int64"
      ]
     },
     "execution_count": 9,
     "metadata": {
      "tags": []
     },
     "output_type": "execute_result"
    }
   ],
   "source": [
    "data.isnull().sum()"
   ]
  },
  {
   "cell_type": "markdown",
   "metadata": {
    "colab_type": "text",
    "id": "K9k_1U_stnrh"
   },
   "source": [
    "### Feature Engineering"
   ]
  },
  {
   "cell_type": "code",
   "execution_count": 0,
   "metadata": {
    "colab": {
     "base_uri": "https://localhost:8080/",
     "height": 276
    },
    "colab_type": "code",
    "id": "NmiNvbQrYO7u",
    "outputId": "5da56efa-3252-438f-e8b8-c44899f022bd"
   },
   "outputs": [
    {
     "name": "stderr",
     "output_type": "stream",
     "text": [
      "/usr/local/lib/python3.6/dist-packages/ipykernel_launcher.py:6: SettingWithCopyWarning: \n",
      "A value is trying to be set on a copy of a slice from a DataFrame\n",
      "\n",
      "See the caveats in the documentation: https://pandas.pydata.org/pandas-docs/stable/user_guide/indexing.html#returning-a-view-versus-a-copy\n",
      "  \n",
      "/usr/local/lib/python3.6/dist-packages/ipykernel_launcher.py:10: SettingWithCopyWarning: \n",
      "A value is trying to be set on a copy of a slice from a DataFrame\n",
      "\n",
      "See the caveats in the documentation: https://pandas.pydata.org/pandas-docs/stable/user_guide/indexing.html#returning-a-view-versus-a-copy\n",
      "  # Remove the CWD from sys.path while we load stuff.\n",
      "/usr/local/lib/python3.6/dist-packages/ipykernel_launcher.py:13: SettingWithCopyWarning: \n",
      "A value is trying to be set on a copy of a slice from a DataFrame\n",
      "\n",
      "See the caveats in the documentation: https://pandas.pydata.org/pandas-docs/stable/user_guide/indexing.html#returning-a-view-versus-a-copy\n",
      "  del sys.path[0]\n"
     ]
    }
   ],
   "source": [
    "data['Application_Ranking']=0\n",
    "rank=0\n",
    "for i in data.index:\n",
    "    if i==0:\n",
    "        rank+=1\n",
    "        data['Application_Ranking'][i]=rank\n",
    "    else:\n",
    "        if(data['Application_Receipt_Date'][i]==data['Application_Receipt_Date'][i-1]):\n",
    "            rank+=1\n",
    "            data['Application_Ranking'][i]=rank\n",
    "        else:\n",
    "            rank=1 \n",
    "            data['Application_Ranking'][i]=rank"
   ]
  },
  {
   "cell_type": "markdown",
   "metadata": {
    "colab_type": "text",
    "id": "-iLADTE6tYD4"
   },
   "source": [
    "- Creating an application ranking variable which denotes the order in which applications are received throughout the day."
   ]
  },
  {
   "cell_type": "code",
   "execution_count": 0,
   "metadata": {
    "colab": {
     "base_uri": "https://localhost:8080/",
     "height": 649
    },
    "colab_type": "code",
    "id": "_R6_wbciZ8wA",
    "outputId": "3658dc7b-8fbe-441a-abf4-04e4cf664e7f"
   },
   "outputs": [
    {
     "data": {
      "text/html": [
       "<div>\n",
       "<style scoped>\n",
       "    .dataframe tbody tr th:only-of-type {\n",
       "        vertical-align: middle;\n",
       "    }\n",
       "\n",
       "    .dataframe tbody tr th {\n",
       "        vertical-align: top;\n",
       "    }\n",
       "\n",
       "    .dataframe thead th {\n",
       "        text-align: right;\n",
       "    }\n",
       "</style>\n",
       "<table border=\"1\" class=\"dataframe\">\n",
       "  <thead>\n",
       "    <tr style=\"text-align: right;\">\n",
       "      <th></th>\n",
       "      <th>Application_Receipt_Date</th>\n",
       "      <th>Application_Ranking</th>\n",
       "    </tr>\n",
       "  </thead>\n",
       "  <tbody>\n",
       "    <tr>\n",
       "      <th>70</th>\n",
       "      <td>4/16/2007</td>\n",
       "      <td>71</td>\n",
       "    </tr>\n",
       "    <tr>\n",
       "      <th>71</th>\n",
       "      <td>4/16/2007</td>\n",
       "      <td>72</td>\n",
       "    </tr>\n",
       "    <tr>\n",
       "      <th>72</th>\n",
       "      <td>4/16/2007</td>\n",
       "      <td>73</td>\n",
       "    </tr>\n",
       "    <tr>\n",
       "      <th>73</th>\n",
       "      <td>4/16/2007</td>\n",
       "      <td>74</td>\n",
       "    </tr>\n",
       "    <tr>\n",
       "      <th>74</th>\n",
       "      <td>4/16/2007</td>\n",
       "      <td>75</td>\n",
       "    </tr>\n",
       "    <tr>\n",
       "      <th>75</th>\n",
       "      <td>4/16/2007</td>\n",
       "      <td>76</td>\n",
       "    </tr>\n",
       "    <tr>\n",
       "      <th>76</th>\n",
       "      <td>4/16/2007</td>\n",
       "      <td>77</td>\n",
       "    </tr>\n",
       "    <tr>\n",
       "      <th>77</th>\n",
       "      <td>4/16/2007</td>\n",
       "      <td>78</td>\n",
       "    </tr>\n",
       "    <tr>\n",
       "      <th>78</th>\n",
       "      <td>4/16/2007</td>\n",
       "      <td>79</td>\n",
       "    </tr>\n",
       "    <tr>\n",
       "      <th>79</th>\n",
       "      <td>4/17/2007</td>\n",
       "      <td>1</td>\n",
       "    </tr>\n",
       "    <tr>\n",
       "      <th>80</th>\n",
       "      <td>4/17/2007</td>\n",
       "      <td>2</td>\n",
       "    </tr>\n",
       "    <tr>\n",
       "      <th>81</th>\n",
       "      <td>4/17/2007</td>\n",
       "      <td>3</td>\n",
       "    </tr>\n",
       "    <tr>\n",
       "      <th>82</th>\n",
       "      <td>4/17/2007</td>\n",
       "      <td>4</td>\n",
       "    </tr>\n",
       "    <tr>\n",
       "      <th>83</th>\n",
       "      <td>4/17/2007</td>\n",
       "      <td>5</td>\n",
       "    </tr>\n",
       "    <tr>\n",
       "      <th>84</th>\n",
       "      <td>4/17/2007</td>\n",
       "      <td>6</td>\n",
       "    </tr>\n",
       "    <tr>\n",
       "      <th>85</th>\n",
       "      <td>4/17/2007</td>\n",
       "      <td>7</td>\n",
       "    </tr>\n",
       "    <tr>\n",
       "      <th>86</th>\n",
       "      <td>4/17/2007</td>\n",
       "      <td>8</td>\n",
       "    </tr>\n",
       "    <tr>\n",
       "      <th>87</th>\n",
       "      <td>4/17/2007</td>\n",
       "      <td>9</td>\n",
       "    </tr>\n",
       "    <tr>\n",
       "      <th>88</th>\n",
       "      <td>4/17/2007</td>\n",
       "      <td>10</td>\n",
       "    </tr>\n",
       "    <tr>\n",
       "      <th>89</th>\n",
       "      <td>4/17/2007</td>\n",
       "      <td>11</td>\n",
       "    </tr>\n",
       "  </tbody>\n",
       "</table>\n",
       "</div>"
      ],
      "text/plain": [
       "   Application_Receipt_Date  Application_Ranking\n",
       "70                4/16/2007                   71\n",
       "71                4/16/2007                   72\n",
       "72                4/16/2007                   73\n",
       "73                4/16/2007                   74\n",
       "74                4/16/2007                   75\n",
       "75                4/16/2007                   76\n",
       "76                4/16/2007                   77\n",
       "77                4/16/2007                   78\n",
       "78                4/16/2007                   79\n",
       "79                4/17/2007                    1\n",
       "80                4/17/2007                    2\n",
       "81                4/17/2007                    3\n",
       "82                4/17/2007                    4\n",
       "83                4/17/2007                    5\n",
       "84                4/17/2007                    6\n",
       "85                4/17/2007                    7\n",
       "86                4/17/2007                    8\n",
       "87                4/17/2007                    9\n",
       "88                4/17/2007                   10\n",
       "89                4/17/2007                   11"
      ]
     },
     "execution_count": 11,
     "metadata": {
      "tags": []
     },
     "output_type": "execute_result"
    }
   ],
   "source": [
    "data[['Application_Receipt_Date','Application_Ranking']].iloc[70:90]"
   ]
  },
  {
   "cell_type": "code",
   "execution_count": 0,
   "metadata": {
    "colab": {},
    "colab_type": "code",
    "id": "Eys36OYUaJ1m"
   },
   "outputs": [],
   "source": [
    "data['Application_Ranking']=(data['Application_Ranking']-min(data['Application_Ranking']))/(max(data['Application_Ranking'])-min(data['Application_Ranking']))"
   ]
  },
  {
   "cell_type": "code",
   "execution_count": 0,
   "metadata": {
    "colab": {
     "base_uri": "https://localhost:8080/",
     "height": 173
    },
    "colab_type": "code",
    "id": "FADJmHdSazJP",
    "outputId": "9a05a33b-69de-49d9-f59b-0a0b23407753"
   },
   "outputs": [
    {
     "data": {
      "text/plain": [
       "count    9527.000000\n",
       "mean        0.116517\n",
       "std         0.113504\n",
       "min         0.000000\n",
       "25%         0.036585\n",
       "50%         0.085366\n",
       "75%         0.158537\n",
       "max         1.000000\n",
       "Name: Application_Ranking, dtype: float64"
      ]
     },
     "execution_count": 13,
     "metadata": {
      "tags": []
     },
     "output_type": "execute_result"
    }
   ],
   "source": [
    "data['Application_Ranking'].describe()"
   ]
  },
  {
   "cell_type": "markdown",
   "metadata": {
    "colab_type": "text",
    "id": "PhiuWNBqtvYa"
   },
   "source": [
    "- Normalizing the application ranking variable so that the values are between [0,1]."
   ]
  },
  {
   "cell_type": "code",
   "execution_count": 0,
   "metadata": {
    "colab": {},
    "colab_type": "code",
    "id": "ZVy8ARRxbsqF"
   },
   "outputs": [],
   "source": [
    "data['Application_Receipt_Date']=pd.to_datetime(data['Application_Receipt_Date'])\n",
    "data['Application_Receipt_daynum']=data['Application_Receipt_Date'].dt.dayofweek\n",
    "data['Application_Receipt_month']=data['Application_Receipt_Date'].dt.month\n",
    "data['Applicant_BirthDate']=pd.to_datetime(data['Applicant_BirthDate'])\n",
    "data['Manager_DOJ']=pd.to_datetime(data['Manager_DOJ'])\n",
    "data['Manager_DoB']=pd.to_datetime(data['Manager_DoB'])"
   ]
  },
  {
   "cell_type": "code",
   "execution_count": 0,
   "metadata": {
    "colab": {},
    "colab_type": "code",
    "id": "8VsWnSHZb8gv"
   },
   "outputs": [],
   "source": [
    "data['Applicant_Age'] = data.apply(lambda x: (x['Application_Receipt_Date'] - x['Applicant_BirthDate']).days/365, axis=1)\n",
    "data['Manager_Age'] = data.apply(lambda x: (x['Application_Receipt_Date'] - x['Manager_DoB']).days/365, axis=1)\n",
    "data['Manager_YearsInOffice'] = data.apply(lambda x: (x['Application_Receipt_Date'] - x['Manager_DOJ']).days/365, axis=1)"
   ]
  },
  {
   "cell_type": "markdown",
   "metadata": {
    "colab_type": "text",
    "id": "bhVJHm02uARP"
   },
   "source": [
    "- Finding the manager's age, applicants's age and number of years of the manager in the office."
   ]
  },
  {
   "cell_type": "code",
   "execution_count": 0,
   "metadata": {
    "colab": {
     "base_uri": "https://localhost:8080/",
     "height": 283
    },
    "colab_type": "code",
    "id": "5MBejt1mcBnE",
    "outputId": "ed5fc354-5eb4-4b32-f014-dc88f9650cea"
   },
   "outputs": [
    {
     "data": {
      "text/plain": [
       "<matplotlib.axes._subplots.AxesSubplot at 0x7f9cf3172b70>"
      ]
     },
     "execution_count": 16,
     "metadata": {
      "tags": []
     },
     "output_type": "execute_result"
    },
    {
     "data": {
      "image/png": "[encoded data removed]",
      "text/plain": [
       "<Figure size 432x288 with 1 Axes>"
      ]
     },
     "metadata": {
      "needs_background": "light",
      "tags": []
     },
     "output_type": "display_data"
    }
   ],
   "source": [
    "data['Applicant_Age'].plot.hist()"
   ]
  },
  {
   "cell_type": "code",
   "execution_count": 0,
   "metadata": {
    "colab": {},
    "colab_type": "code",
    "id": "3QLBEg9CclXz"
   },
   "outputs": [],
   "source": [
    "data['Applicant_Age']=data['Applicant_Age'].map(lambda x:20 if x<20 else x)"
   ]
  },
  {
   "cell_type": "code",
   "execution_count": 0,
   "metadata": {
    "colab": {},
    "colab_type": "code",
    "id": "JrKxx7sEc3jZ"
   },
   "outputs": [],
   "source": [
    "data['Applicant_Age']=data['Applicant_Age'].map(lambda x:58 if x>58 else x)"
   ]
  },
  {
   "cell_type": "code",
   "execution_count": 0,
   "metadata": {
    "colab": {
     "base_uri": "https://localhost:8080/",
     "height": 285
    },
    "colab_type": "code",
    "id": "WpvhpcPUc5oY",
    "outputId": "459df675-a01c-4509-a2e7-99ed9d3e4da1"
   },
   "outputs": [
    {
     "data": {
      "text/plain": [
       "<matplotlib.axes._subplots.AxesSubplot at 0x7f9cf2a45320>"
      ]
     },
     "execution_count": 19,
     "metadata": {
      "tags": []
     },
     "output_type": "execute_result"
    },
    {
     "data": {
      "image/png": "[encoded data removed]",
      "text/plain": [
       "<Figure size 432x288 with 1 Axes>"
      ]
     },
     "metadata": {
      "needs_background": "light",
      "tags": []
     },
     "output_type": "display_data"
    }
   ],
   "source": [
    "data['Applicant_Age'].plot.hist()"
   ]
  },
  {
   "cell_type": "code",
   "execution_count": 0,
   "metadata": {
    "colab": {
     "base_uri": "https://localhost:8080/",
     "height": 283
    },
    "colab_type": "code",
    "id": "cbs3JiO9c71D",
    "outputId": "11830979-4a52-4c73-a89c-311202c5294d"
   },
   "outputs": [
    {
     "data": {
      "text/plain": [
       "<matplotlib.axes._subplots.AxesSubplot at 0x7f9cf30933c8>"
      ]
     },
     "execution_count": 20,
     "metadata": {
      "tags": []
     },
     "output_type": "execute_result"
    },
    {
     "data": {
      "image/png": "[encoded data removed]",
      "text/plain": [
       "<Figure size 432x288 with 1 Axes>"
      ]
     },
     "metadata": {
      "needs_background": "light",
      "tags": []
     },
     "output_type": "display_data"
    }
   ],
   "source": [
    "data['Manager_Age'].plot.box()"
   ]
  },
  {
   "cell_type": "code",
   "execution_count": 0,
   "metadata": {
    "colab": {},
    "colab_type": "code",
    "id": "NVQKdj8xc_GQ"
   },
   "outputs": [],
   "source": [
    "data['Manager_Age']=data['Manager_Age'].map(lambda x:23 if x<23 else x)"
   ]
  },
  {
   "cell_type": "code",
   "execution_count": 0,
   "metadata": {
    "colab": {},
    "colab_type": "code",
    "id": "w-gsXsr0dAsp"
   },
   "outputs": [],
   "source": [
    "data['Manager_Age']=data['Manager_Age'].map(lambda x:58 if x>58 else x)"
   ]
  },
  {
   "cell_type": "code",
   "execution_count": 0,
   "metadata": {
    "colab": {
     "base_uri": "https://localhost:8080/",
     "height": 282
    },
    "colab_type": "code",
    "id": "THWrePrBdDzP",
    "outputId": "b04918bc-ae1b-4d0e-e015-2dca2a69326c"
   },
   "outputs": [
    {
     "data": {
      "text/plain": [
       "<matplotlib.axes._subplots.AxesSubplot at 0x7f9cf307f438>"
      ]
     },
     "execution_count": 23,
     "metadata": {
      "tags": []
     },
     "output_type": "execute_result"
    },
    {
     "data": {
      "image/png": "[encoded data removed]",
      "text/plain": [
       "<Figure size 432x288 with 1 Axes>"
      ]
     },
     "metadata": {
      "needs_background": "light",
      "tags": []
     },
     "output_type": "display_data"
    }
   ],
   "source": [
    "data['Manager_Age'].plot.hist()"
   ]
  },
  {
   "cell_type": "code",
   "execution_count": 0,
   "metadata": {
    "colab": {
     "base_uri": "https://localhost:8080/",
     "height": 283
    },
    "colab_type": "code",
    "id": "QBD3_Ss8dFXW",
    "outputId": "082667ba-6ce7-4ef5-bebc-67b653b5b777"
   },
   "outputs": [
    {
     "data": {
      "text/plain": [
       "<matplotlib.axes._subplots.AxesSubplot at 0x7f9cf307f278>"
      ]
     },
     "execution_count": 24,
     "metadata": {
      "tags": []
     },
     "output_type": "execute_result"
    },
    {
     "data": {
      "image/png": "[encoded data removed]",
      "text/plain": [
       "<Figure size 432x288 with 1 Axes>"
      ]
     },
     "metadata": {
      "needs_background": "light",
      "tags": []
     },
     "output_type": "display_data"
    }
   ],
   "source": [
    "data['Manager_YearsInOffice'].plot.box()"
   ]
  },
  {
   "cell_type": "code",
   "execution_count": 0,
   "metadata": {
    "colab": {},
    "colab_type": "code",
    "id": "opN_oHjxdKH4"
   },
   "outputs": [],
   "source": [
    "data['Manager_YearsInOffice']=data['Manager_YearsInOffice'].map(lambda x:0 if x<0 else x)"
   ]
  },
  {
   "cell_type": "code",
   "execution_count": 0,
   "metadata": {
    "colab": {
     "base_uri": "https://localhost:8080/",
     "height": 284
    },
    "colab_type": "code",
    "id": "q887l-3-dZMT",
    "outputId": "1cf5d167-0dfb-4015-87c6-96a668575f12"
   },
   "outputs": [
    {
     "data": {
      "text/plain": [
       "<matplotlib.axes._subplots.AxesSubplot at 0x7f9cf308e048>"
      ]
     },
     "execution_count": 26,
     "metadata": {
      "tags": []
     },
     "output_type": "execute_result"
    },
    {
     "data": {
      "image/png": "[encoded data removed]",
      "text/plain": [
       "<Figure size 432x288 with 1 Axes>"
      ]
     },
     "metadata": {
      "needs_background": "light",
      "tags": []
     },
     "output_type": "display_data"
    }
   ],
   "source": [
    "data['Manager_YearsInOffice'].plot.hist()"
   ]
  },
  {
   "cell_type": "code",
   "execution_count": 0,
   "metadata": {
    "colab": {
     "base_uri": "https://localhost:8080/",
     "height": 198
    },
    "colab_type": "code",
    "id": "BlMy42WpddNs",
    "outputId": "39c783de-fd66-4325-db48-a98bfddf00ef"
   },
   "outputs": [
    {
     "data": {
      "text/html": [
       "<div>\n",
       "<style scoped>\n",
       "    .dataframe tbody tr th:only-of-type {\n",
       "        vertical-align: middle;\n",
       "    }\n",
       "\n",
       "    .dataframe tbody tr th {\n",
       "        vertical-align: top;\n",
       "    }\n",
       "\n",
       "    .dataframe thead th {\n",
       "        text-align: right;\n",
       "    }\n",
       "</style>\n",
       "<table border=\"1\" class=\"dataframe\">\n",
       "  <thead>\n",
       "    <tr style=\"text-align: right;\">\n",
       "      <th></th>\n",
       "      <th>Applicant_Age</th>\n",
       "      <th>Manager_Age</th>\n",
       "      <th>Manager_YearsInOffice</th>\n",
       "    </tr>\n",
       "  </thead>\n",
       "  <tbody>\n",
       "    <tr>\n",
       "      <th>0</th>\n",
       "      <td>35.347945</td>\n",
       "      <td>29.178082</td>\n",
       "      <td>1.430137</td>\n",
       "    </tr>\n",
       "    <tr>\n",
       "      <th>1</th>\n",
       "      <td>24.175342</td>\n",
       "      <td>29.178082</td>\n",
       "      <td>1.430137</td>\n",
       "    </tr>\n",
       "    <tr>\n",
       "      <th>2</th>\n",
       "      <td>41.273973</td>\n",
       "      <td>38.145205</td>\n",
       "      <td>0.887671</td>\n",
       "    </tr>\n",
       "    <tr>\n",
       "      <th>3</th>\n",
       "      <td>20.000000</td>\n",
       "      <td>28.690411</td>\n",
       "      <td>3.654795</td>\n",
       "    </tr>\n",
       "    <tr>\n",
       "      <th>4</th>\n",
       "      <td>21.797260</td>\n",
       "      <td>36.210959</td>\n",
       "      <td>0.939726</td>\n",
       "    </tr>\n",
       "  </tbody>\n",
       "</table>\n",
       "</div>"
      ],
      "text/plain": [
       "   Applicant_Age  Manager_Age  Manager_YearsInOffice\n",
       "0      35.347945    29.178082               1.430137\n",
       "1      24.175342    29.178082               1.430137\n",
       "2      41.273973    38.145205               0.887671\n",
       "3      20.000000    28.690411               3.654795\n",
       "4      21.797260    36.210959               0.939726"
      ]
     },
     "execution_count": 27,
     "metadata": {
      "tags": []
     },
     "output_type": "execute_result"
    }
   ],
   "source": [
    "data[['Applicant_Age','Manager_Age','Manager_YearsInOffice']].head()"
   ]
  },
  {
   "cell_type": "code",
   "execution_count": 0,
   "metadata": {
    "colab": {},
    "colab_type": "code",
    "id": "cRBeaYgSdf0N"
   },
   "outputs": [],
   "source": [
    "dist = pgeocode.GeoDistance('in')"
   ]
  },
  {
   "cell_type": "code",
   "execution_count": 0,
   "metadata": {
    "colab": {},
    "colab_type": "code",
    "id": "_tBX1YXXdilV"
   },
   "outputs": [],
   "source": [
    "data['distance']=float(np.NaN)"
   ]
  },
  {
   "cell_type": "code",
   "execution_count": 0,
   "metadata": {
    "colab": {
     "base_uri": "https://localhost:8080/",
     "height": 104
    },
    "colab_type": "code",
    "id": "00zp91d7dmun",
    "outputId": "869368d2-4b1e-4d33-eb48-ce7d36b9363b"
   },
   "outputs": [
    {
     "name": "stderr",
     "output_type": "stream",
     "text": [
      "/usr/local/lib/python3.6/dist-packages/ipykernel_launcher.py:3: SettingWithCopyWarning: \n",
      "A value is trying to be set on a copy of a slice from a DataFrame\n",
      "\n",
      "See the caveats in the documentation: https://pandas.pydata.org/pandas-docs/stable/user_guide/indexing.html#returning-a-view-versus-a-copy\n",
      "  This is separate from the ipykernel package so we can avoid doing imports until\n"
     ]
    }
   ],
   "source": [
    "for i in data.index:\n",
    "    d=float(dist.query_postal_code(str(data['Office_PIN'][i]), str(int(data['Applicant_City_PIN'][i]))))\n",
    "    data['distance'][i]=d"
   ]
  },
  {
   "cell_type": "code",
   "execution_count": 0,
   "metadata": {
    "colab": {},
    "colab_type": "code",
    "id": "mndi_2ocdpdn"
   },
   "outputs": [],
   "source": [
    "data['distance']=data['distance'].fillna(data['distance'].median())"
   ]
  },
  {
   "cell_type": "markdown",
   "metadata": {
    "colab_type": "text",
    "id": "wYAnd-oouQzY"
   },
   "source": [
    "- Finding the distance between the applicant's city and the office."
   ]
  },
  {
   "cell_type": "code",
   "execution_count": 0,
   "metadata": {
    "colab": {
     "base_uri": "https://localhost:8080/",
     "height": 553
    },
    "colab_type": "code",
    "id": "7ntvFOhidtCT",
    "outputId": "5ff39f15-2186-4e3f-9ea4-d4e763585ed3"
   },
   "outputs": [
    {
     "data": {
      "text/plain": [
       "ID                                     object\n",
       "Office_PIN                              int64\n",
       "Application_Receipt_Date       datetime64[ns]\n",
       "Applicant_City_PIN                    float64\n",
       "Applicant_Gender                       object\n",
       "Applicant_BirthDate            datetime64[ns]\n",
       "Applicant_Marital_Status               object\n",
       "Applicant_Occupation                   object\n",
       "Applicant_Qualification                object\n",
       "Manager_DOJ                    datetime64[ns]\n",
       "Manager_Joining_Designation            object\n",
       "Manager_Current_Designation            object\n",
       "Manager_Grade                         float64\n",
       "Manager_Status                         object\n",
       "Manager_Gender                         object\n",
       "Manager_DoB                    datetime64[ns]\n",
       "Manager_Num_Application               float64\n",
       "Manager_Num_Coded                     float64\n",
       "Manager_Business                      float64\n",
       "Manager_Num_Products                  float64\n",
       "Manager_Business2                     float64\n",
       "Manager_Num_Products2                 float64\n",
       "Business_Sourced                        int64\n",
       "Application_Ranking                   float64\n",
       "Application_Receipt_daynum              int64\n",
       "Application_Receipt_month               int64\n",
       "Applicant_Age                         float64\n",
       "Manager_Age                           float64\n",
       "Manager_YearsInOffice                 float64\n",
       "distance                              float64\n",
       "dtype: object"
      ]
     },
     "execution_count": 32,
     "metadata": {
      "tags": []
     },
     "output_type": "execute_result"
    }
   ],
   "source": [
    "data.dtypes"
   ]
  },
  {
   "cell_type": "code",
   "execution_count": 0,
   "metadata": {
    "colab": {
     "base_uri": "https://localhost:8080/",
     "height": 52
    },
    "colab_type": "code",
    "id": "KKemRopxdueo",
    "outputId": "7840b6d7-0e04-4162-8e48-7b49441e4bf5"
   },
   "outputs": [
    {
     "name": "stdout",
     "output_type": "stream",
     "text": [
      "Pincode same: 1461\n",
      "Distance zero: 1810\n"
     ]
    }
   ],
   "source": [
    "pincode_same,distance_zero=[],[]\n",
    "pincode_same_count,distance_zero_count=0,0\n",
    "for i in data.index:\n",
    "    v\n",
    "    if(data['Office_PIN'][i]==int(data['Applicant_City_PIN'][i])):\n",
    "        pincode_same.append('Yes')\n",
    "        pincode_same_count+=1\n",
    "    else:\n",
    "        pincode_same.append('No')  \n",
    "    if(data['distance'][i]==0):\n",
    "        distance_zero.append('Yes')\n",
    "        distance_zero_count+=1\n",
    "    else:\n",
    "        distance_zero.append('No')\n",
    "print('Pincode same:',pincode_same_count)\n",
    "print('Distance zero:',distance_zero_count)    "
   ]
  },
  {
   "cell_type": "markdown",
   "metadata": {
    "colab_type": "text",
    "id": "MkgFWQWcubpT"
   },
   "source": [
    "- Checking consistency in the distance varaible."
   ]
  },
  {
   "cell_type": "code",
   "execution_count": 0,
   "metadata": {
    "colab": {
     "base_uri": "https://localhost:8080/",
     "height": 282
    },
    "colab_type": "code",
    "id": "UEPM9iUndxgZ",
    "outputId": "2827345b-d87a-46dd-86a3-2dabe0b38adf"
   },
   "outputs": [
    {
     "data": {
      "text/plain": [
       "<matplotlib.axes._subplots.AxesSubplot at 0x7f9cf1a54160>"
      ]
     },
     "execution_count": 34,
     "metadata": {
      "tags": []
     },
     "output_type": "execute_result"
    },
    {
     "data": {
      "image/png": "[encoded data removed]",
      "text/plain": [
       "<Figure size 432x288 with 1 Axes>"
      ]
     },
     "metadata": {
      "needs_background": "light",
      "tags": []
     },
     "output_type": "display_data"
    }
   ],
   "source": [
    "data['distance'].plot.box()"
   ]
  },
  {
   "cell_type": "code",
   "execution_count": 0,
   "metadata": {
    "colab": {
     "base_uri": "https://localhost:8080/",
     "height": 282
    },
    "colab_type": "code",
    "id": "Zlavl-HPd1LO",
    "outputId": "1aaece50-3978-4b9b-bb44-8d19cc737675"
   },
   "outputs": [
    {
     "data": {
      "text/plain": [
       "<matplotlib.axes._subplots.AxesSubplot at 0x7f9cf1a23518>"
      ]
     },
     "execution_count": 35,
     "metadata": {
      "tags": []
     },
     "output_type": "execute_result"
    },
    {
     "data": {
      "image/png": "[encoded data removed]",
      "text/plain": [
       "<Figure size 432x288 with 1 Axes>"
      ]
     },
     "metadata": {
      "needs_background": "light",
      "tags": []
     },
     "output_type": "display_data"
    }
   ],
   "source": [
    "data[data['distance']<150]['distance'].plot.hist()"
   ]
  },
  {
   "cell_type": "code",
   "execution_count": 0,
   "metadata": {
    "colab": {},
    "colab_type": "code",
    "id": "gFS482QJd42D"
   },
   "outputs": [],
   "source": [
    "data['distance'] = data.distance.map(lambda x: 150 if x >150 else x)"
   ]
  },
  {
   "cell_type": "code",
   "execution_count": 0,
   "metadata": {
    "colab": {
     "base_uri": "https://localhost:8080/",
     "height": 282
    },
    "colab_type": "code",
    "id": "vMFNj_rEeHjb",
    "outputId": "707a5052-1358-4d5a-e71e-288b4f5399fc"
   },
   "outputs": [
    {
     "data": {
      "text/plain": [
       "<matplotlib.axes._subplots.AxesSubplot at 0x7f9cf199a860>"
      ]
     },
     "execution_count": 37,
     "metadata": {
      "tags": []
     },
     "output_type": "execute_result"
    },
    {
     "data": {
      "image/png": "[encoded data removed]",
      "text/plain": [
       "<Figure size 432x288 with 1 Axes>"
      ]
     },
     "metadata": {
      "needs_background": "light",
      "tags": []
     },
     "output_type": "display_data"
    }
   ],
   "source": [
    "data['distance'].plot.hist()"
   ]
  },
  {
   "cell_type": "code",
   "execution_count": 0,
   "metadata": {
    "colab": {
     "base_uri": "https://localhost:8080/",
     "height": 104
    },
    "colab_type": "code",
    "id": "iIQSrhOreI99",
    "outputId": "c021fde2-072a-4545-a094-4b73b7e14685"
   },
   "outputs": [
    {
     "name": "stderr",
     "output_type": "stream",
     "text": [
      "/usr/local/lib/python3.6/dist-packages/ipykernel_launcher.py:3: SettingWithCopyWarning: \n",
      "A value is trying to be set on a copy of a slice from a DataFrame\n",
      "\n",
      "See the caveats in the documentation: https://pandas.pydata.org/pandas-docs/stable/user_guide/indexing.html#returning-a-view-versus-a-copy\n",
      "  This is separate from the ipykernel package so we can avoid doing imports until\n"
     ]
    }
   ],
   "source": [
    "for i in data.index:\n",
    "    if(data['Manager_Num_Coded'][i]>data['Manager_Num_Application'][i]):\n",
    "        data['Manager_Num_Coded'][i]=data['Manager_Num_Application'][i]"
   ]
  },
  {
   "cell_type": "code",
   "execution_count": 0,
   "metadata": {
    "colab": {},
    "colab_type": "code",
    "id": "aVCk9XCHek31"
   },
   "outputs": [],
   "source": [
    "data['Manager_Num_Converted']=data['Manager_Num_Application']-data['Manager_Num_Coded']"
   ]
  },
  {
   "cell_type": "markdown",
   "metadata": {
    "colab_type": "text",
    "id": "FqDV0vt2umtl"
   },
   "source": [
    "- Finding how many applications got converted managers."
   ]
  },
  {
   "cell_type": "code",
   "execution_count": 0,
   "metadata": {
    "colab": {
     "base_uri": "https://localhost:8080/",
     "height": 34
    },
    "colab_type": "code",
    "id": "DUYfX7b9etBp",
    "outputId": "d7f2fbc7-4b8a-4992-c035-0bb3fdf9006f"
   },
   "outputs": [
    {
     "data": {
      "text/plain": [
       "(0, 31)"
      ]
     },
     "execution_count": 40,
     "metadata": {
      "tags": []
     },
     "output_type": "execute_result"
    }
   ],
   "source": [
    "data[data['Manager_Num_Converted']<0].shape"
   ]
  },
  {
   "cell_type": "code",
   "execution_count": 0,
   "metadata": {
    "colab": {
     "base_uri": "https://localhost:8080/",
     "height": 283
    },
    "colab_type": "code",
    "id": "2bKaXPYDeuis",
    "outputId": "832da6ba-74ae-4b48-8d3c-4f6b09093610"
   },
   "outputs": [
    {
     "data": {
      "text/plain": [
       "<matplotlib.axes._subplots.AxesSubplot at 0x7f9cf1916f28>"
      ]
     },
     "execution_count": 41,
     "metadata": {
      "tags": []
     },
     "output_type": "execute_result"
    },
    {
     "data": {
      "image/png": "[encoded data removed]",
      "text/plain": [
       "<Figure size 432x288 with 1 Axes>"
      ]
     },
     "metadata": {
      "needs_background": "light",
      "tags": []
     },
     "output_type": "display_data"
    }
   ],
   "source": [
    "data['Manager_Num_Converted'].plot.box()"
   ]
  },
  {
   "cell_type": "code",
   "execution_count": 0,
   "metadata": {
    "colab": {},
    "colab_type": "code",
    "id": "izrQLhuVewUS"
   },
   "outputs": [],
   "source": [
    "data['Manager_Num_Converted']=data['Manager_Num_Converted'].map(lambda x:5 if x>5 else x)"
   ]
  },
  {
   "cell_type": "code",
   "execution_count": 0,
   "metadata": {
    "colab": {
     "base_uri": "https://localhost:8080/",
     "height": 286
    },
    "colab_type": "code",
    "id": "FsV4EybQe1Jv",
    "outputId": "885cd0bd-4ae6-4b66-ad87-a0ea27d35808"
   },
   "outputs": [
    {
     "data": {
      "text/plain": [
       "<matplotlib.axes._subplots.AxesSubplot at 0x7f9cf2ee7b00>"
      ]
     },
     "execution_count": 43,
     "metadata": {
      "tags": []
     },
     "output_type": "execute_result"
    },
    {
     "data": {
      "image/png": "[encoded data removed]",
      "text/plain": [
       "<Figure size 432x288 with 1 Axes>"
      ]
     },
     "metadata": {
      "needs_background": "light",
      "tags": []
     },
     "output_type": "display_data"
    }
   ],
   "source": [
    "data['Manager_Num_Converted'].plot.hist()"
   ]
  },
  {
   "cell_type": "code",
   "execution_count": 0,
   "metadata": {
    "colab": {
     "base_uri": "https://localhost:8080/",
     "height": 207
    },
    "colab_type": "code",
    "id": "7cIWx9T9e2il",
    "outputId": "5979a138-712b-43fd-e8ce-c2ad1aabb6a0"
   },
   "outputs": [
    {
     "data": {
      "text/plain": [
       "Index(['ID', 'Office_PIN', 'Application_Receipt_Date', 'Applicant_City_PIN',\n",
       "       'Applicant_Gender', 'Applicant_BirthDate', 'Applicant_Marital_Status',\n",
       "       'Applicant_Occupation', 'Applicant_Qualification', 'Manager_DOJ',\n",
       "       'Manager_Joining_Designation', 'Manager_Current_Designation',\n",
       "       'Manager_Grade', 'Manager_Status', 'Manager_Gender', 'Manager_DoB',\n",
       "       'Manager_Num_Application', 'Manager_Num_Coded', 'Manager_Business',\n",
       "       'Manager_Num_Products', 'Manager_Business2', 'Manager_Num_Products2',\n",
       "       'Business_Sourced', 'Application_Ranking', 'Application_Receipt_daynum',\n",
       "       'Application_Receipt_month', 'Applicant_Age', 'Manager_Age',\n",
       "       'Manager_YearsInOffice', 'distance', 'Manager_Num_Converted'],\n",
       "      dtype='object')"
      ]
     },
     "execution_count": 44,
     "metadata": {
      "tags": []
     },
     "output_type": "execute_result"
    }
   ],
   "source": [
    "data.columns"
   ]
  },
  {
   "cell_type": "code",
   "execution_count": 0,
   "metadata": {
    "colab": {},
    "colab_type": "code",
    "id": "VYIAWqVae7WR"
   },
   "outputs": [],
   "source": [
    "cols_to_keep=['Office_PIN','Applicant_City_PIN','Applicant_Gender','Applicant_Occupation','Manager_Joining_Designation',\n",
    "              'Manager_Current_Designation','Manager_Gender','Manager_Num_Application','Manager_Num_Coded','Manager_Num_Converted',\n",
    "              'Manager_Num_Products','Manager_Business','distance','Applicant_Age','Manager_Age','Application_Ranking',\n",
    "              'Manager_YearsInOffice','Application_Receipt_month','Application_Receipt_daynum','Business_Sourced']"
   ]
  },
  {
   "cell_type": "code",
   "execution_count": 0,
   "metadata": {
    "colab": {},
    "colab_type": "code",
    "id": "xCupQsBrgJGn"
   },
   "outputs": [],
   "source": [
    "final_data=data[cols_to_keep]"
   ]
  },
  {
   "cell_type": "code",
   "execution_count": 0,
   "metadata": {
    "colab": {
     "base_uri": "https://localhost:8080/",
     "height": 218
    },
    "colab_type": "code",
    "id": "e06bIyghgUEp",
    "outputId": "4616f6e5-fa89-449c-927d-46b9d3e37f07"
   },
   "outputs": [
    {
     "data": {
      "text/html": [
       "<div>\n",
       "<style scoped>\n",
       "    .dataframe tbody tr th:only-of-type {\n",
       "        vertical-align: middle;\n",
       "    }\n",
       "\n",
       "    .dataframe tbody tr th {\n",
       "        vertical-align: top;\n",
       "    }\n",
       "\n",
       "    .dataframe thead th {\n",
       "        text-align: right;\n",
       "    }\n",
       "</style>\n",
       "<table border=\"1\" class=\"dataframe\">\n",
       "  <thead>\n",
       "    <tr style=\"text-align: right;\">\n",
       "      <th></th>\n",
       "      <th>Office_PIN</th>\n",
       "      <th>Applicant_City_PIN</th>\n",
       "      <th>Applicant_Gender</th>\n",
       "      <th>Applicant_Occupation</th>\n",
       "      <th>Manager_Joining_Designation</th>\n",
       "      <th>Manager_Current_Designation</th>\n",
       "      <th>Manager_Gender</th>\n",
       "      <th>Manager_Num_Application</th>\n",
       "      <th>Manager_Num_Coded</th>\n",
       "      <th>Manager_Num_Converted</th>\n",
       "      <th>Manager_Num_Products</th>\n",
       "      <th>Manager_Business</th>\n",
       "      <th>distance</th>\n",
       "      <th>Applicant_Age</th>\n",
       "      <th>Manager_Age</th>\n",
       "      <th>Application_Ranking</th>\n",
       "      <th>Manager_YearsInOffice</th>\n",
       "      <th>Application_Receipt_month</th>\n",
       "      <th>Application_Receipt_daynum</th>\n",
       "      <th>Business_Sourced</th>\n",
       "    </tr>\n",
       "  </thead>\n",
       "  <tbody>\n",
       "    <tr>\n",
       "      <th>0</th>\n",
       "      <td>842001</td>\n",
       "      <td>844120.0</td>\n",
       "      <td>M</td>\n",
       "      <td>Others</td>\n",
       "      <td>Level 1</td>\n",
       "      <td>Level 2</td>\n",
       "      <td>M</td>\n",
       "      <td>2.0</td>\n",
       "      <td>1.0</td>\n",
       "      <td>1.0</td>\n",
       "      <td>28.0</td>\n",
       "      <td>335249.0</td>\n",
       "      <td>150.000000</td>\n",
       "      <td>35.347945</td>\n",
       "      <td>29.178082</td>\n",
       "      <td>0.000000</td>\n",
       "      <td>1.430137</td>\n",
       "      <td>4</td>\n",
       "      <td>0</td>\n",
       "      <td>0</td>\n",
       "    </tr>\n",
       "    <tr>\n",
       "      <th>1</th>\n",
       "      <td>842001</td>\n",
       "      <td>844111.0</td>\n",
       "      <td>M</td>\n",
       "      <td>Others</td>\n",
       "      <td>Level 1</td>\n",
       "      <td>Level 2</td>\n",
       "      <td>M</td>\n",
       "      <td>2.0</td>\n",
       "      <td>1.0</td>\n",
       "      <td>1.0</td>\n",
       "      <td>28.0</td>\n",
       "      <td>335249.0</td>\n",
       "      <td>150.000000</td>\n",
       "      <td>24.175342</td>\n",
       "      <td>29.178082</td>\n",
       "      <td>0.006098</td>\n",
       "      <td>1.430137</td>\n",
       "      <td>4</td>\n",
       "      <td>0</td>\n",
       "      <td>1</td>\n",
       "    </tr>\n",
       "    <tr>\n",
       "      <th>2</th>\n",
       "      <td>800001</td>\n",
       "      <td>844101.0</td>\n",
       "      <td>M</td>\n",
       "      <td>Business</td>\n",
       "      <td>Level 1</td>\n",
       "      <td>Level 1</td>\n",
       "      <td>M</td>\n",
       "      <td>0.0</td>\n",
       "      <td>0.0</td>\n",
       "      <td>0.0</td>\n",
       "      <td>24.0</td>\n",
       "      <td>357184.0</td>\n",
       "      <td>29.264576</td>\n",
       "      <td>41.273973</td>\n",
       "      <td>38.145205</td>\n",
       "      <td>0.012195</td>\n",
       "      <td>0.887671</td>\n",
       "      <td>4</td>\n",
       "      <td>0</td>\n",
       "      <td>0</td>\n",
       "    </tr>\n",
       "    <tr>\n",
       "      <th>3</th>\n",
       "      <td>814112</td>\n",
       "      <td>814112.0</td>\n",
       "      <td>M</td>\n",
       "      <td>Salaried</td>\n",
       "      <td>Level 1</td>\n",
       "      <td>Level 3</td>\n",
       "      <td>F</td>\n",
       "      <td>0.0</td>\n",
       "      <td>0.0</td>\n",
       "      <td>0.0</td>\n",
       "      <td>22.0</td>\n",
       "      <td>318356.0</td>\n",
       "      <td>0.000000</td>\n",
       "      <td>20.000000</td>\n",
       "      <td>28.690411</td>\n",
       "      <td>0.018293</td>\n",
       "      <td>3.654795</td>\n",
       "      <td>4</td>\n",
       "      <td>0</td>\n",
       "      <td>0</td>\n",
       "    </tr>\n",
       "    <tr>\n",
       "      <th>4</th>\n",
       "      <td>814112</td>\n",
       "      <td>815351.0</td>\n",
       "      <td>M</td>\n",
       "      <td>Others</td>\n",
       "      <td>Level 1</td>\n",
       "      <td>Level 1</td>\n",
       "      <td>M</td>\n",
       "      <td>2.0</td>\n",
       "      <td>1.0</td>\n",
       "      <td>1.0</td>\n",
       "      <td>17.0</td>\n",
       "      <td>230402.0</td>\n",
       "      <td>45.155843</td>\n",
       "      <td>21.797260</td>\n",
       "      <td>36.210959</td>\n",
       "      <td>0.024390</td>\n",
       "      <td>0.939726</td>\n",
       "      <td>4</td>\n",
       "      <td>0</td>\n",
       "      <td>0</td>\n",
       "    </tr>\n",
       "  </tbody>\n",
       "</table>\n",
       "</div>"
      ],
      "text/plain": [
       "   Office_PIN  Applicant_City_PIN  ... Application_Receipt_daynum Business_Sourced\n",
       "0      842001            844120.0  ...                          0                0\n",
       "1      842001            844111.0  ...                          0                1\n",
       "2      800001            844101.0  ...                          0                0\n",
       "3      814112            814112.0  ...                          0                0\n",
       "4      814112            815351.0  ...                          0                0\n",
       "\n",
       "[5 rows x 20 columns]"
      ]
     },
     "execution_count": 47,
     "metadata": {
      "tags": []
     },
     "output_type": "execute_result"
    }
   ],
   "source": [
    "final_data.head()"
   ]
  },
  {
   "cell_type": "markdown",
   "metadata": {
    "colab_type": "text",
    "id": "tmnYC46Gu2bG"
   },
   "source": [
    "### Encoding the categorical variables"
   ]
  },
  {
   "cell_type": "code",
   "execution_count": 0,
   "metadata": {
    "colab": {
     "base_uri": "https://localhost:8080/",
     "height": 69
    },
    "colab_type": "code",
    "id": "CSDAXWnFgVey",
    "outputId": "3fab4621-97e7-4a34-8050-3bc8c1411e57"
   },
   "outputs": [
    {
     "data": {
      "text/plain": [
       "M    7246\n",
       "F    2281\n",
       "Name: Applicant_Gender, dtype: int64"
      ]
     },
     "execution_count": 48,
     "metadata": {
      "tags": []
     },
     "output_type": "execute_result"
    }
   ],
   "source": [
    "final_data['Applicant_Gender'].value_counts()"
   ]
  },
  {
   "cell_type": "code",
   "execution_count": 0,
   "metadata": {
    "colab": {
     "base_uri": "https://localhost:8080/",
     "height": 104
    },
    "colab_type": "code",
    "id": "afAvkiaSghuV",
    "outputId": "2462e50b-0cfe-4a42-b690-8b74f213cdfa"
   },
   "outputs": [
    {
     "name": "stderr",
     "output_type": "stream",
     "text": [
      "/usr/local/lib/python3.6/dist-packages/pandas/core/generic.py:6746: SettingWithCopyWarning: \n",
      "A value is trying to be set on a copy of a slice from a DataFrame\n",
      "\n",
      "See the caveats in the documentation: https://pandas.pydata.org/pandas-docs/stable/user_guide/indexing.html#returning-a-view-versus-a-copy\n",
      "  self._update_inplace(new_data)\n"
     ]
    }
   ],
   "source": [
    "final_data['Applicant_Gender'].replace({'M':0,'F':1},inplace=True)"
   ]
  },
  {
   "cell_type": "code",
   "execution_count": 0,
   "metadata": {
    "colab": {
     "base_uri": "https://localhost:8080/",
     "height": 69
    },
    "colab_type": "code",
    "id": "aPBdd9CngvJL",
    "outputId": "567fdf1a-c3c6-463d-dce3-466431b78178"
   },
   "outputs": [
    {
     "data": {
      "text/plain": [
       "M    8310\n",
       "F    1217\n",
       "Name: Manager_Gender, dtype: int64"
      ]
     },
     "execution_count": 50,
     "metadata": {
      "tags": []
     },
     "output_type": "execute_result"
    }
   ],
   "source": [
    "final_data['Manager_Gender'].value_counts()"
   ]
  },
  {
   "cell_type": "code",
   "execution_count": 0,
   "metadata": {
    "colab": {
     "base_uri": "https://localhost:8080/",
     "height": 104
    },
    "colab_type": "code",
    "id": "XB_-lE7pg9hy",
    "outputId": "36734209-ff27-43c5-f0a9-67aed9d581dc"
   },
   "outputs": [
    {
     "name": "stderr",
     "output_type": "stream",
     "text": [
      "/usr/local/lib/python3.6/dist-packages/pandas/core/generic.py:6746: SettingWithCopyWarning: \n",
      "A value is trying to be set on a copy of a slice from a DataFrame\n",
      "\n",
      "See the caveats in the documentation: https://pandas.pydata.org/pandas-docs/stable/user_guide/indexing.html#returning-a-view-versus-a-copy\n",
      "  self._update_inplace(new_data)\n"
     ]
    }
   ],
   "source": [
    "final_data['Manager_Gender'].replace({'M':0,'F':1},inplace=True)"
   ]
  },
  {
   "cell_type": "code",
   "execution_count": 0,
   "metadata": {
    "colab": {
     "base_uri": "https://localhost:8080/",
     "height": 121
    },
    "colab_type": "code",
    "id": "vAHN2LNFhBFq",
    "outputId": "74a6b318-37ad-4564-e00c-043e78e1e17b"
   },
   "outputs": [
    {
     "data": {
      "text/plain": [
       "Salaried         5008\n",
       "Business         2303\n",
       "Others           1966\n",
       "Self Employed     149\n",
       "Student           101\n",
       "Name: Applicant_Occupation, dtype: int64"
      ]
     },
     "execution_count": 52,
     "metadata": {
      "tags": []
     },
     "output_type": "execute_result"
    }
   ],
   "source": [
    "final_data['Applicant_Occupation'].value_counts()"
   ]
  },
  {
   "cell_type": "code",
   "execution_count": 0,
   "metadata": {
    "colab": {
     "base_uri": "https://localhost:8080/",
     "height": 104
    },
    "colab_type": "code",
    "id": "MrIlEm6HhJIK",
    "outputId": "86c88874-2fed-4d07-941e-e8dbc256c7b2"
   },
   "outputs": [
    {
     "name": "stderr",
     "output_type": "stream",
     "text": [
      "/usr/local/lib/python3.6/dist-packages/pandas/core/generic.py:6746: SettingWithCopyWarning: \n",
      "A value is trying to be set on a copy of a slice from a DataFrame\n",
      "\n",
      "See the caveats in the documentation: https://pandas.pydata.org/pandas-docs/stable/user_guide/indexing.html#returning-a-view-versus-a-copy\n",
      "  self._update_inplace(new_data)\n"
     ]
    }
   ],
   "source": [
    "final_data['Applicant_Occupation'].replace('Self Employed','Others',inplace=True)\n",
    "final_data['Applicant_Occupation'].replace('Student','Others',inplace=True)"
   ]
  },
  {
   "cell_type": "code",
   "execution_count": 0,
   "metadata": {
    "colab": {
     "base_uri": "https://localhost:8080/",
     "height": 86
    },
    "colab_type": "code",
    "id": "xLUnTM_ShL1g",
    "outputId": "b19b7adb-0c36-48c6-970e-a90ef0f8e63b"
   },
   "outputs": [
    {
     "data": {
      "text/plain": [
       "Salaried    5008\n",
       "Business    2303\n",
       "Others      2216\n",
       "Name: Applicant_Occupation, dtype: int64"
      ]
     },
     "execution_count": 54,
     "metadata": {
      "tags": []
     },
     "output_type": "execute_result"
    }
   ],
   "source": [
    "final_data['Applicant_Occupation'].value_counts()"
   ]
  },
  {
   "cell_type": "code",
   "execution_count": 0,
   "metadata": {
    "colab": {
     "base_uri": "https://localhost:8080/",
     "height": 104
    },
    "colab_type": "code",
    "id": "zi-2WI52hNjN",
    "outputId": "66e65f8f-bdf3-4687-f203-a50cc7ebca4d"
   },
   "outputs": [
    {
     "name": "stderr",
     "output_type": "stream",
     "text": [
      "/usr/local/lib/python3.6/dist-packages/pandas/core/generic.py:6746: SettingWithCopyWarning: \n",
      "A value is trying to be set on a copy of a slice from a DataFrame\n",
      "\n",
      "See the caveats in the documentation: https://pandas.pydata.org/pandas-docs/stable/user_guide/indexing.html#returning-a-view-versus-a-copy\n",
      "  self._update_inplace(new_data)\n"
     ]
    }
   ],
   "source": [
    "final_data['Applicant_Occupation'].replace({'Salaried':0,'Business':1,'Others':2},inplace=True)"
   ]
  },
  {
   "cell_type": "code",
   "execution_count": 0,
   "metadata": {
    "colab": {
     "base_uri": "https://localhost:8080/",
     "height": 173
    },
    "colab_type": "code",
    "id": "1ADdGH6-hg9l",
    "outputId": "d9592d53-e3b9-47de-98d2-ae9fc17553ad"
   },
   "outputs": [
    {
     "data": {
      "text/plain": [
       "Level 1    5315\n",
       "Level 2    2787\n",
       "Level 3    1146\n",
       "Level 4     200\n",
       "Other        58\n",
       "Level 6      18\n",
       "Level 7       2\n",
       "Level 5       1\n",
       "Name: Manager_Joining_Designation, dtype: int64"
      ]
     },
     "execution_count": 56,
     "metadata": {
      "tags": []
     },
     "output_type": "execute_result"
    }
   ],
   "source": [
    "final_data['Manager_Joining_Designation'].value_counts()"
   ]
  },
  {
   "cell_type": "code",
   "execution_count": 0,
   "metadata": {
    "colab": {
     "base_uri": "https://localhost:8080/",
     "height": 104
    },
    "colab_type": "code",
    "id": "UtOCyd0GhzXG",
    "outputId": "1095c58c-621b-4782-b75c-1eb71f1eeb99"
   },
   "outputs": [
    {
     "name": "stderr",
     "output_type": "stream",
     "text": [
      "/usr/local/lib/python3.6/dist-packages/pandas/core/generic.py:6746: SettingWithCopyWarning: \n",
      "A value is trying to be set on a copy of a slice from a DataFrame\n",
      "\n",
      "See the caveats in the documentation: https://pandas.pydata.org/pandas-docs/stable/user_guide/indexing.html#returning-a-view-versus-a-copy\n",
      "  self._update_inplace(new_data)\n"
     ]
    }
   ],
   "source": [
    "final_data['Manager_Joining_Designation'].replace('Level 1',1,inplace=True)\n",
    "final_data['Manager_Joining_Designation'].replace('Level 2',2,inplace=True)\n",
    "final_data['Manager_Joining_Designation'].replace('Level 3',3,inplace=True)\n",
    "final_data['Manager_Joining_Designation'].replace('Level 4',4,inplace=True)\n",
    "final_data['Manager_Joining_Designation'].replace('Other',5,inplace=True)\n",
    "final_data['Manager_Joining_Designation'].replace('Level 5',5,inplace=True)\n",
    "final_data['Manager_Joining_Designation'].replace('Level 6',5,inplace=True)\n",
    "final_data['Manager_Joining_Designation'].replace('Level 7',5,inplace=True)"
   ]
  },
  {
   "cell_type": "code",
   "execution_count": 0,
   "metadata": {
    "colab": {
     "base_uri": "https://localhost:8080/",
     "height": 121
    },
    "colab_type": "code",
    "id": "x2WqA1Rah4Cr",
    "outputId": "579a9138-088a-4acb-a066-902fc8606271"
   },
   "outputs": [
    {
     "data": {
      "text/plain": [
       "Level 2    3891\n",
       "Level 1    2479\n",
       "Level 3    2033\n",
       "Level 4    1031\n",
       "Level 5      93\n",
       "Name: Manager_Current_Designation, dtype: int64"
      ]
     },
     "execution_count": 58,
     "metadata": {
      "tags": []
     },
     "output_type": "execute_result"
    }
   ],
   "source": [
    "final_data['Manager_Current_Designation'].value_counts()"
   ]
  },
  {
   "cell_type": "code",
   "execution_count": 0,
   "metadata": {
    "colab": {
     "base_uri": "https://localhost:8080/",
     "height": 104
    },
    "colab_type": "code",
    "id": "JkPYkkqPh6ma",
    "outputId": "d14818f2-ef87-4ae6-a542-a35143571423"
   },
   "outputs": [
    {
     "name": "stderr",
     "output_type": "stream",
     "text": [
      "/usr/local/lib/python3.6/dist-packages/pandas/core/generic.py:6746: SettingWithCopyWarning: \n",
      "A value is trying to be set on a copy of a slice from a DataFrame\n",
      "\n",
      "See the caveats in the documentation: https://pandas.pydata.org/pandas-docs/stable/user_guide/indexing.html#returning-a-view-versus-a-copy\n",
      "  self._update_inplace(new_data)\n"
     ]
    }
   ],
   "source": [
    "final_data['Manager_Current_Designation'].replace('Level 1',1,inplace=True)\n",
    "final_data['Manager_Current_Designation'].replace('Level 2',2,inplace=True)\n",
    "final_data['Manager_Current_Designation'].replace('Level 3',3,inplace=True)\n",
    "final_data['Manager_Current_Designation'].replace('Level 4',4,inplace=True)\n",
    "final_data['Manager_Current_Designation'].replace('Level 5',5,inplace=True)"
   ]
  },
  {
   "cell_type": "code",
   "execution_count": 0,
   "metadata": {
    "colab": {
     "base_uri": "https://localhost:8080/",
     "height": 121
    },
    "colab_type": "code",
    "id": "UjEiT_QHh-5h",
    "outputId": "c0e67f44-3d9d-42c3-b4cf-bba2a0a88887"
   },
   "outputs": [
    {
     "data": {
      "text/plain": [
       "2    3891\n",
       "1    2479\n",
       "3    2033\n",
       "4    1031\n",
       "5      93\n",
       "Name: Manager_Current_Designation, dtype: int64"
      ]
     },
     "execution_count": 60,
     "metadata": {
      "tags": []
     },
     "output_type": "execute_result"
    }
   ],
   "source": [
    "final_data['Manager_Current_Designation'].value_counts()"
   ]
  },
  {
   "cell_type": "code",
   "execution_count": 0,
   "metadata": {
    "colab": {
     "base_uri": "https://localhost:8080/",
     "height": 121
    },
    "colab_type": "code",
    "id": "mMGEz0oQiZk_",
    "outputId": "08691172-50f8-4bf1-b4ca-d3e3f9080369"
   },
   "outputs": [
    {
     "name": "stderr",
     "output_type": "stream",
     "text": [
      "/usr/local/lib/python3.6/dist-packages/ipykernel_launcher.py:1: SettingWithCopyWarning: \n",
      "A value is trying to be set on a copy of a slice from a DataFrame.\n",
      "Try using .loc[row_indexer,col_indexer] = value instead\n",
      "\n",
      "See the caveats in the documentation: https://pandas.pydata.org/pandas-docs/stable/user_guide/indexing.html#returning-a-view-versus-a-copy\n",
      "  \"\"\"Entry point for launching an IPython kernel.\n"
     ]
    }
   ],
   "source": [
    "final_data['Manager_Performance']=(final_data['Manager_Current_Designation']-final_data['Manager_Joining_Designation'])/final_data['Manager_YearsInOffice']"
   ]
  },
  {
   "cell_type": "markdown",
   "metadata": {
    "colab_type": "text",
    "id": "sQ-0W3MfvOAv"
   },
   "source": [
    "- Creating a manager performance variable by finding the difference between the current and joining designation of a manager and dividing it by the number of years spent by the manager in the office."
   ]
  },
  {
   "cell_type": "code",
   "execution_count": 0,
   "metadata": {
    "colab": {
     "base_uri": "https://localhost:8080/",
     "height": 104
    },
    "colab_type": "code",
    "id": "zgxTtmxniigx",
    "outputId": "5f8a47cb-0eee-4b5e-917a-fc25c5bf75ab"
   },
   "outputs": [
    {
     "name": "stderr",
     "output_type": "stream",
     "text": [
      "/usr/local/lib/python3.6/dist-packages/pandas/core/generic.py:6245: SettingWithCopyWarning: \n",
      "A value is trying to be set on a copy of a slice from a DataFrame\n",
      "\n",
      "See the caveats in the documentation: https://pandas.pydata.org/pandas-docs/stable/user_guide/indexing.html#returning-a-view-versus-a-copy\n",
      "  self._update_inplace(new_data)\n"
     ]
    }
   ],
   "source": [
    "final_data['Manager_Performance'].fillna(final_data['Manager_Performance'].median(),inplace=True)"
   ]
  },
  {
   "cell_type": "code",
   "execution_count": 0,
   "metadata": {
    "colab": {
     "base_uri": "https://localhost:8080/",
     "height": 283
    },
    "colab_type": "code",
    "id": "NdpGPB4fikCP",
    "outputId": "402bd403-2412-43c7-d4d9-826701ba6cef"
   },
   "outputs": [
    {
     "data": {
      "text/plain": [
       "<matplotlib.axes._subplots.AxesSubplot at 0x7f9cf1875d68>"
      ]
     },
     "execution_count": 63,
     "metadata": {
      "tags": []
     },
     "output_type": "execute_result"
    },
    {
     "data": {
      "image/png": "[encoded data removed]",
      "text/plain": [
       "<Figure size 432x288 with 1 Axes>"
      ]
     },
     "metadata": {
      "needs_background": "light",
      "tags": []
     },
     "output_type": "display_data"
    }
   ],
   "source": [
    "final_data['Manager_Performance'].plot.box()"
   ]
  },
  {
   "cell_type": "code",
   "execution_count": 0,
   "metadata": {
    "colab": {
     "base_uri": "https://localhost:8080/",
     "height": 121
    },
    "colab_type": "code",
    "id": "9cyTBVfCilfi",
    "outputId": "81de10b5-5eae-4a12-c566-f6d53d6f888b"
   },
   "outputs": [
    {
     "name": "stderr",
     "output_type": "stream",
     "text": [
      "/usr/local/lib/python3.6/dist-packages/ipykernel_launcher.py:1: SettingWithCopyWarning: \n",
      "A value is trying to be set on a copy of a slice from a DataFrame.\n",
      "Try using .loc[row_indexer,col_indexer] = value instead\n",
      "\n",
      "See the caveats in the documentation: https://pandas.pydata.org/pandas-docs/stable/user_guide/indexing.html#returning-a-view-versus-a-copy\n",
      "  \"\"\"Entry point for launching an IPython kernel.\n"
     ]
    }
   ],
   "source": [
    "final_data['Manager_Performance']=final_data['Manager_Performance'].map(lambda x:0 if x<0 else x)"
   ]
  },
  {
   "cell_type": "code",
   "execution_count": 0,
   "metadata": {
    "colab": {
     "base_uri": "https://localhost:8080/",
     "height": 121
    },
    "colab_type": "code",
    "id": "KCQGezdciw0U",
    "outputId": "7e38ed6e-c46d-43be-8cba-ab4b4d39bd95"
   },
   "outputs": [
    {
     "name": "stderr",
     "output_type": "stream",
     "text": [
      "/usr/local/lib/python3.6/dist-packages/ipykernel_launcher.py:1: SettingWithCopyWarning: \n",
      "A value is trying to be set on a copy of a slice from a DataFrame.\n",
      "Try using .loc[row_indexer,col_indexer] = value instead\n",
      "\n",
      "See the caveats in the documentation: https://pandas.pydata.org/pandas-docs/stable/user_guide/indexing.html#returning-a-view-versus-a-copy\n",
      "  \"\"\"Entry point for launching an IPython kernel.\n"
     ]
    }
   ],
   "source": [
    "final_data['Manager_Performance']=final_data['Manager_Performance'].map(lambda x:2 if x>2 else x)"
   ]
  },
  {
   "cell_type": "code",
   "execution_count": 0,
   "metadata": {
    "colab": {
     "base_uri": "https://localhost:8080/",
     "height": 282
    },
    "colab_type": "code",
    "id": "FsQlEpyViybe",
    "outputId": "df32ed55-6bfe-4b7f-a1b4-c5410c8cf16c"
   },
   "outputs": [
    {
     "data": {
      "text/plain": [
       "<matplotlib.axes._subplots.AxesSubplot at 0x7f9cf1731ef0>"
      ]
     },
     "execution_count": 66,
     "metadata": {
      "tags": []
     },
     "output_type": "execute_result"
    },
    {
     "data": {
      "image/png": "[encoded data removed]",
      "text/plain": [
       "<Figure size 432x288 with 1 Axes>"
      ]
     },
     "metadata": {
      "needs_background": "light",
      "tags": []
     },
     "output_type": "display_data"
    }
   ],
   "source": [
    "final_data['Manager_Performance'].plot.hist()"
   ]
  },
  {
   "cell_type": "code",
   "execution_count": 0,
   "metadata": {
    "colab": {
     "base_uri": "https://localhost:8080/",
     "height": 294
    },
    "colab_type": "code",
    "id": "8hwpwXm3i0tG",
    "outputId": "574e574b-1e0c-4523-dfed-f13c72b53538"
   },
   "outputs": [
    {
     "data": {
      "text/plain": [
       "<matplotlib.axes._subplots.AxesSubplot at 0x7f9cf1731da0>"
      ]
     },
     "execution_count": 67,
     "metadata": {
      "tags": []
     },
     "output_type": "execute_result"
    },
    {
     "data": {
      "image/png": "[encoded data removed]",
      "text/plain": [
       "<Figure size 432x288 with 1 Axes>"
      ]
     },
     "metadata": {
      "needs_background": "light",
      "tags": []
     },
     "output_type": "display_data"
    }
   ],
   "source": [
    "final_data['Manager_Business'].plot.box()"
   ]
  },
  {
   "cell_type": "code",
   "execution_count": 0,
   "metadata": {
    "colab": {
     "base_uri": "https://localhost:8080/",
     "height": 121
    },
    "colab_type": "code",
    "id": "dPbXutKJi3pi",
    "outputId": "a4731821-62d5-4535-8176-df7256cc2135"
   },
   "outputs": [
    {
     "name": "stderr",
     "output_type": "stream",
     "text": [
      "/usr/local/lib/python3.6/dist-packages/ipykernel_launcher.py:1: SettingWithCopyWarning: \n",
      "A value is trying to be set on a copy of a slice from a DataFrame.\n",
      "Try using .loc[row_indexer,col_indexer] = value instead\n",
      "\n",
      "See the caveats in the documentation: https://pandas.pydata.org/pandas-docs/stable/user_guide/indexing.html#returning-a-view-versus-a-copy\n",
      "  \"\"\"Entry point for launching an IPython kernel.\n"
     ]
    }
   ],
   "source": [
    "final_data['Manager_Business']=final_data['Manager_Business'].map(lambda x:0 if x<0 else x)"
   ]
  },
  {
   "cell_type": "code",
   "execution_count": 0,
   "metadata": {
    "colab": {
     "base_uri": "https://localhost:8080/",
     "height": 121
    },
    "colab_type": "code",
    "id": "1VCn0vuEi6px",
    "outputId": "4900ac63-9de2-4285-9868-015bf748a735"
   },
   "outputs": [
    {
     "name": "stderr",
     "output_type": "stream",
     "text": [
      "/usr/local/lib/python3.6/dist-packages/ipykernel_launcher.py:1: SettingWithCopyWarning: \n",
      "A value is trying to be set on a copy of a slice from a DataFrame.\n",
      "Try using .loc[row_indexer,col_indexer] = value instead\n",
      "\n",
      "See the caveats in the documentation: https://pandas.pydata.org/pandas-docs/stable/user_guide/indexing.html#returning-a-view-versus-a-copy\n",
      "  \"\"\"Entry point for launching an IPython kernel.\n"
     ]
    }
   ],
   "source": [
    "final_data['Manager_Business']=final_data['Manager_Business'].map(lambda x:600000 if x>600000 else x)"
   ]
  },
  {
   "cell_type": "code",
   "execution_count": 0,
   "metadata": {
    "colab": {
     "base_uri": "https://localhost:8080/",
     "height": 282
    },
    "colab_type": "code",
    "id": "936UijOwi77p",
    "outputId": "565ceeb8-bc49-44c6-93c0-41663e0769e1"
   },
   "outputs": [
    {
     "data": {
      "text/plain": [
       "<matplotlib.axes._subplots.AxesSubplot at 0x7f9cf1a44b70>"
      ]
     },
     "execution_count": 70,
     "metadata": {
      "tags": []
     },
     "output_type": "execute_result"
    },
    {
     "data": {
      "image/png": "[encoded data removed]",
      "text/plain": [
       "<Figure size 432x288 with 1 Axes>"
      ]
     },
     "metadata": {
      "needs_background": "light",
      "tags": []
     },
     "output_type": "display_data"
    }
   ],
   "source": [
    "final_data['Manager_Business'].plot.hist()"
   ]
  },
  {
   "cell_type": "code",
   "execution_count": 0,
   "metadata": {
    "colab": {
     "base_uri": "https://localhost:8080/",
     "height": 283
    },
    "colab_type": "code",
    "id": "xZgDbQ9Hi9_G",
    "outputId": "08ff9bef-ee90-4192-9e93-3c9a534cf215"
   },
   "outputs": [
    {
     "data": {
      "text/plain": [
       "<matplotlib.axes._subplots.AxesSubplot at 0x7f9cf1647518>"
      ]
     },
     "execution_count": 71,
     "metadata": {
      "tags": []
     },
     "output_type": "execute_result"
    },
    {
     "data": {
      "image/png": "[encoded data removed]",
      "text/plain": [
       "<Figure size 432x288 with 1 Axes>"
      ]
     },
     "metadata": {
      "needs_background": "light",
      "tags": []
     },
     "output_type": "display_data"
    }
   ],
   "source": [
    "final_data['Manager_Num_Products'].plot.box()"
   ]
  },
  {
   "cell_type": "code",
   "execution_count": 0,
   "metadata": {
    "colab": {
     "base_uri": "https://localhost:8080/",
     "height": 121
    },
    "colab_type": "code",
    "id": "jkkydFLQjDWX",
    "outputId": "2d793a69-630d-4841-9a2d-6d7faa027bd2"
   },
   "outputs": [
    {
     "name": "stderr",
     "output_type": "stream",
     "text": [
      "/usr/local/lib/python3.6/dist-packages/ipykernel_launcher.py:1: SettingWithCopyWarning: \n",
      "A value is trying to be set on a copy of a slice from a DataFrame.\n",
      "Try using .loc[row_indexer,col_indexer] = value instead\n",
      "\n",
      "See the caveats in the documentation: https://pandas.pydata.org/pandas-docs/stable/user_guide/indexing.html#returning-a-view-versus-a-copy\n",
      "  \"\"\"Entry point for launching an IPython kernel.\n"
     ]
    }
   ],
   "source": [
    "final_data['Manager_Num_Products']=final_data['Manager_Num_Products'].map(lambda x:30 if x>30 else x)"
   ]
  },
  {
   "cell_type": "code",
   "execution_count": 0,
   "metadata": {
    "colab": {
     "base_uri": "https://localhost:8080/",
     "height": 282
    },
    "colab_type": "code",
    "id": "9VFq0RVpjFIb",
    "outputId": "fba1f08c-a25d-49d2-e686-ac3d14e56e38"
   },
   "outputs": [
    {
     "data": {
      "text/plain": [
       "<matplotlib.axes._subplots.AxesSubplot at 0x7f9cf1566550>"
      ]
     },
     "execution_count": 73,
     "metadata": {
      "tags": []
     },
     "output_type": "execute_result"
    },
    {
     "data": {
      "image/png": "[encoded data removed]",
      "text/plain": [
       "<Figure size 432x288 with 1 Axes>"
      ]
     },
     "metadata": {
      "needs_background": "light",
      "tags": []
     },
     "output_type": "display_data"
    }
   ],
   "source": [
    "final_data['Manager_Num_Products'].plot.hist()"
   ]
  },
  {
   "cell_type": "code",
   "execution_count": 0,
   "metadata": {
    "colab": {
     "base_uri": "https://localhost:8080/",
     "height": 218
    },
    "colab_type": "code",
    "id": "EfvhTtmTjGeD",
    "outputId": "5644a78b-0432-4e12-a982-c793ae98b0fe"
   },
   "outputs": [
    {
     "data": {
      "text/html": [
       "<div>\n",
       "<style scoped>\n",
       "    .dataframe tbody tr th:only-of-type {\n",
       "        vertical-align: middle;\n",
       "    }\n",
       "\n",
       "    .dataframe tbody tr th {\n",
       "        vertical-align: top;\n",
       "    }\n",
       "\n",
       "    .dataframe thead th {\n",
       "        text-align: right;\n",
       "    }\n",
       "</style>\n",
       "<table border=\"1\" class=\"dataframe\">\n",
       "  <thead>\n",
       "    <tr style=\"text-align: right;\">\n",
       "      <th></th>\n",
       "      <th>Office_PIN</th>\n",
       "      <th>Applicant_City_PIN</th>\n",
       "      <th>Applicant_Gender</th>\n",
       "      <th>Applicant_Occupation</th>\n",
       "      <th>Manager_Joining_Designation</th>\n",
       "      <th>Manager_Current_Designation</th>\n",
       "      <th>Manager_Gender</th>\n",
       "      <th>Manager_Num_Application</th>\n",
       "      <th>Manager_Num_Coded</th>\n",
       "      <th>Manager_Num_Converted</th>\n",
       "      <th>Manager_Num_Products</th>\n",
       "      <th>Manager_Business</th>\n",
       "      <th>distance</th>\n",
       "      <th>Applicant_Age</th>\n",
       "      <th>Manager_Age</th>\n",
       "      <th>Application_Ranking</th>\n",
       "      <th>Manager_YearsInOffice</th>\n",
       "      <th>Application_Receipt_month</th>\n",
       "      <th>Application_Receipt_daynum</th>\n",
       "      <th>Business_Sourced</th>\n",
       "      <th>Manager_Performance</th>\n",
       "    </tr>\n",
       "  </thead>\n",
       "  <tbody>\n",
       "    <tr>\n",
       "      <th>0</th>\n",
       "      <td>842001</td>\n",
       "      <td>844120.0</td>\n",
       "      <td>0</td>\n",
       "      <td>2</td>\n",
       "      <td>1</td>\n",
       "      <td>2</td>\n",
       "      <td>0</td>\n",
       "      <td>2.0</td>\n",
       "      <td>1.0</td>\n",
       "      <td>1.0</td>\n",
       "      <td>28.0</td>\n",
       "      <td>335249.0</td>\n",
       "      <td>150.000000</td>\n",
       "      <td>35.347945</td>\n",
       "      <td>29.178082</td>\n",
       "      <td>0.000000</td>\n",
       "      <td>1.430137</td>\n",
       "      <td>4</td>\n",
       "      <td>0</td>\n",
       "      <td>0</td>\n",
       "      <td>0.699234</td>\n",
       "    </tr>\n",
       "    <tr>\n",
       "      <th>1</th>\n",
       "      <td>842001</td>\n",
       "      <td>844111.0</td>\n",
       "      <td>0</td>\n",
       "      <td>2</td>\n",
       "      <td>1</td>\n",
       "      <td>2</td>\n",
       "      <td>0</td>\n",
       "      <td>2.0</td>\n",
       "      <td>1.0</td>\n",
       "      <td>1.0</td>\n",
       "      <td>28.0</td>\n",
       "      <td>335249.0</td>\n",
       "      <td>150.000000</td>\n",
       "      <td>24.175342</td>\n",
       "      <td>29.178082</td>\n",
       "      <td>0.006098</td>\n",
       "      <td>1.430137</td>\n",
       "      <td>4</td>\n",
       "      <td>0</td>\n",
       "      <td>1</td>\n",
       "      <td>0.699234</td>\n",
       "    </tr>\n",
       "    <tr>\n",
       "      <th>2</th>\n",
       "      <td>800001</td>\n",
       "      <td>844101.0</td>\n",
       "      <td>0</td>\n",
       "      <td>1</td>\n",
       "      <td>1</td>\n",
       "      <td>1</td>\n",
       "      <td>0</td>\n",
       "      <td>0.0</td>\n",
       "      <td>0.0</td>\n",
       "      <td>0.0</td>\n",
       "      <td>24.0</td>\n",
       "      <td>357184.0</td>\n",
       "      <td>29.264576</td>\n",
       "      <td>41.273973</td>\n",
       "      <td>38.145205</td>\n",
       "      <td>0.012195</td>\n",
       "      <td>0.887671</td>\n",
       "      <td>4</td>\n",
       "      <td>0</td>\n",
       "      <td>0</td>\n",
       "      <td>0.000000</td>\n",
       "    </tr>\n",
       "    <tr>\n",
       "      <th>3</th>\n",
       "      <td>814112</td>\n",
       "      <td>814112.0</td>\n",
       "      <td>0</td>\n",
       "      <td>0</td>\n",
       "      <td>1</td>\n",
       "      <td>3</td>\n",
       "      <td>1</td>\n",
       "      <td>0.0</td>\n",
       "      <td>0.0</td>\n",
       "      <td>0.0</td>\n",
       "      <td>22.0</td>\n",
       "      <td>318356.0</td>\n",
       "      <td>0.000000</td>\n",
       "      <td>20.000000</td>\n",
       "      <td>28.690411</td>\n",
       "      <td>0.018293</td>\n",
       "      <td>3.654795</td>\n",
       "      <td>4</td>\n",
       "      <td>0</td>\n",
       "      <td>0</td>\n",
       "      <td>0.547226</td>\n",
       "    </tr>\n",
       "    <tr>\n",
       "      <th>4</th>\n",
       "      <td>814112</td>\n",
       "      <td>815351.0</td>\n",
       "      <td>0</td>\n",
       "      <td>2</td>\n",
       "      <td>1</td>\n",
       "      <td>1</td>\n",
       "      <td>0</td>\n",
       "      <td>2.0</td>\n",
       "      <td>1.0</td>\n",
       "      <td>1.0</td>\n",
       "      <td>17.0</td>\n",
       "      <td>230402.0</td>\n",
       "      <td>45.155843</td>\n",
       "      <td>21.797260</td>\n",
       "      <td>36.210959</td>\n",
       "      <td>0.024390</td>\n",
       "      <td>0.939726</td>\n",
       "      <td>4</td>\n",
       "      <td>0</td>\n",
       "      <td>0</td>\n",
       "      <td>0.000000</td>\n",
       "    </tr>\n",
       "  </tbody>\n",
       "</table>\n",
       "</div>"
      ],
      "text/plain": [
       "   Office_PIN  Applicant_City_PIN  ...  Business_Sourced  Manager_Performance\n",
       "0      842001            844120.0  ...                 0             0.699234\n",
       "1      842001            844111.0  ...                 1             0.699234\n",
       "2      800001            844101.0  ...                 0             0.000000\n",
       "3      814112            814112.0  ...                 0             0.547226\n",
       "4      814112            815351.0  ...                 0             0.000000\n",
       "\n",
       "[5 rows x 21 columns]"
      ]
     },
     "execution_count": 74,
     "metadata": {
      "tags": []
     },
     "output_type": "execute_result"
    }
   ],
   "source": [
    "final_data.head()"
   ]
  },
  {
   "cell_type": "markdown",
   "metadata": {
    "colab_type": "text",
    "id": "hqNP38slvlh0"
   },
   "source": [
    "## Model Building"
   ]
  },
  {
   "cell_type": "code",
   "execution_count": 0,
   "metadata": {
    "colab": {},
    "colab_type": "code",
    "id": "A85_bstWjK1s"
   },
   "outputs": [],
   "source": [
    "x=final_data.drop('Business_Sourced',axis=1)\n",
    "y=final_data['Business_Sourced']"
   ]
  },
  {
   "cell_type": "code",
   "execution_count": 0,
   "metadata": {
    "colab": {
     "base_uri": "https://localhost:8080/",
     "height": 218
    },
    "colab_type": "code",
    "id": "5tlBtxnrC_4-",
    "outputId": "f24df419-9328-41a1-bd77-d92e44ff3b7b"
   },
   "outputs": [
    {
     "data": {
      "text/html": [
       "<div>\n",
       "<style scoped>\n",
       "    .dataframe tbody tr th:only-of-type {\n",
       "        vertical-align: middle;\n",
       "    }\n",
       "\n",
       "    .dataframe tbody tr th {\n",
       "        vertical-align: top;\n",
       "    }\n",
       "\n",
       "    .dataframe thead th {\n",
       "        text-align: right;\n",
       "    }\n",
       "</style>\n",
       "<table border=\"1\" class=\"dataframe\">\n",
       "  <thead>\n",
       "    <tr style=\"text-align: right;\">\n",
       "      <th></th>\n",
       "      <th>Office_PIN</th>\n",
       "      <th>Applicant_City_PIN</th>\n",
       "      <th>Applicant_Gender</th>\n",
       "      <th>Applicant_Occupation</th>\n",
       "      <th>Manager_Joining_Designation</th>\n",
       "      <th>Manager_Current_Designation</th>\n",
       "      <th>Manager_Gender</th>\n",
       "      <th>Manager_Num_Application</th>\n",
       "      <th>Manager_Num_Coded</th>\n",
       "      <th>Manager_Num_Converted</th>\n",
       "      <th>Manager_Num_Products</th>\n",
       "      <th>Manager_Business</th>\n",
       "      <th>distance</th>\n",
       "      <th>Applicant_Age</th>\n",
       "      <th>Manager_Age</th>\n",
       "      <th>Application_Ranking</th>\n",
       "      <th>Manager_YearsInOffice</th>\n",
       "      <th>Application_Receipt_month</th>\n",
       "      <th>Application_Receipt_daynum</th>\n",
       "      <th>Manager_Performance</th>\n",
       "    </tr>\n",
       "  </thead>\n",
       "  <tbody>\n",
       "    <tr>\n",
       "      <th>0</th>\n",
       "      <td>0.987721</td>\n",
       "      <td>0.828899</td>\n",
       "      <td>0.0</td>\n",
       "      <td>1.0</td>\n",
       "      <td>0.0</td>\n",
       "      <td>0.25</td>\n",
       "      <td>0.0</td>\n",
       "      <td>0.090909</td>\n",
       "      <td>0.111111</td>\n",
       "      <td>0.2</td>\n",
       "      <td>0.933333</td>\n",
       "      <td>0.558748</td>\n",
       "      <td>1.000000</td>\n",
       "      <td>0.403893</td>\n",
       "      <td>0.176517</td>\n",
       "      <td>0.000000</td>\n",
       "      <td>0.198781</td>\n",
       "      <td>0.272727</td>\n",
       "      <td>0.0</td>\n",
       "      <td>0.349617</td>\n",
       "    </tr>\n",
       "    <tr>\n",
       "      <th>1</th>\n",
       "      <td>0.987721</td>\n",
       "      <td>0.828888</td>\n",
       "      <td>0.0</td>\n",
       "      <td>1.0</td>\n",
       "      <td>0.0</td>\n",
       "      <td>0.25</td>\n",
       "      <td>0.0</td>\n",
       "      <td>0.090909</td>\n",
       "      <td>0.111111</td>\n",
       "      <td>0.2</td>\n",
       "      <td>0.933333</td>\n",
       "      <td>0.558748</td>\n",
       "      <td>1.000000</td>\n",
       "      <td>0.109877</td>\n",
       "      <td>0.176517</td>\n",
       "      <td>0.006098</td>\n",
       "      <td>0.198781</td>\n",
       "      <td>0.272727</td>\n",
       "      <td>0.0</td>\n",
       "      <td>0.349617</td>\n",
       "    </tr>\n",
       "    <tr>\n",
       "      <th>2</th>\n",
       "      <td>0.931048</td>\n",
       "      <td>0.828877</td>\n",
       "      <td>0.0</td>\n",
       "      <td>0.5</td>\n",
       "      <td>0.0</td>\n",
       "      <td>0.00</td>\n",
       "      <td>0.0</td>\n",
       "      <td>0.000000</td>\n",
       "      <td>0.000000</td>\n",
       "      <td>0.0</td>\n",
       "      <td>0.800000</td>\n",
       "      <td>0.595307</td>\n",
       "      <td>0.195097</td>\n",
       "      <td>0.559841</td>\n",
       "      <td>0.432720</td>\n",
       "      <td>0.012195</td>\n",
       "      <td>0.123382</td>\n",
       "      <td>0.272727</td>\n",
       "      <td>0.0</td>\n",
       "      <td>0.000000</td>\n",
       "    </tr>\n",
       "    <tr>\n",
       "      <th>3</th>\n",
       "      <td>0.950089</td>\n",
       "      <td>0.795016</td>\n",
       "      <td>0.0</td>\n",
       "      <td>0.0</td>\n",
       "      <td>0.0</td>\n",
       "      <td>0.50</td>\n",
       "      <td>1.0</td>\n",
       "      <td>0.000000</td>\n",
       "      <td>0.000000</td>\n",
       "      <td>0.0</td>\n",
       "      <td>0.733333</td>\n",
       "      <td>0.530593</td>\n",
       "      <td>0.000000</td>\n",
       "      <td>0.000000</td>\n",
       "      <td>0.162583</td>\n",
       "      <td>0.018293</td>\n",
       "      <td>0.507997</td>\n",
       "      <td>0.272727</td>\n",
       "      <td>0.0</td>\n",
       "      <td>0.273613</td>\n",
       "    </tr>\n",
       "    <tr>\n",
       "      <th>4</th>\n",
       "      <td>0.950089</td>\n",
       "      <td>0.796415</td>\n",
       "      <td>0.0</td>\n",
       "      <td>1.0</td>\n",
       "      <td>0.0</td>\n",
       "      <td>0.00</td>\n",
       "      <td>0.0</td>\n",
       "      <td>0.090909</td>\n",
       "      <td>0.111111</td>\n",
       "      <td>0.2</td>\n",
       "      <td>0.566667</td>\n",
       "      <td>0.384003</td>\n",
       "      <td>0.301039</td>\n",
       "      <td>0.047296</td>\n",
       "      <td>0.377456</td>\n",
       "      <td>0.024390</td>\n",
       "      <td>0.130617</td>\n",
       "      <td>0.272727</td>\n",
       "      <td>0.0</td>\n",
       "      <td>0.000000</td>\n",
       "    </tr>\n",
       "  </tbody>\n",
       "</table>\n",
       "</div>"
      ],
      "text/plain": [
       "   Office_PIN  ...  Manager_Performance\n",
       "0    0.987721  ...             0.349617\n",
       "1    0.987721  ...             0.349617\n",
       "2    0.931048  ...             0.000000\n",
       "3    0.950089  ...             0.273613\n",
       "4    0.950089  ...             0.000000\n",
       "\n",
       "[5 rows x 20 columns]"
      ]
     },
     "execution_count": 79,
     "metadata": {
      "tags": []
     },
     "output_type": "execute_result"
    }
   ],
   "source": [
    "#x -= x.mean(axis=0)\n",
    "#x /= x.std(axis=0)\n",
    "for col in x.columns:\n",
    "    x[col]=(x[col]-min(x[col]))/(max(x[col])-min(x[col]))\n",
    "x.head()  "
   ]
  },
  {
   "cell_type": "code",
   "execution_count": 0,
   "metadata": {
    "colab": {
     "base_uri": "https://localhost:8080/",
     "height": 34
    },
    "colab_type": "code",
    "id": "XNpTB5jIjTXj",
    "outputId": "bea32eb2-353e-4ebf-dbbf-36ec551eba49"
   },
   "outputs": [
    {
     "data": {
      "text/plain": [
       "((9527, 20), (9527,))"
      ]
     },
     "execution_count": 80,
     "metadata": {
      "tags": []
     },
     "output_type": "execute_result"
    }
   ],
   "source": [
    "x.shape,y.shape"
   ]
  },
  {
   "cell_type": "code",
   "execution_count": 0,
   "metadata": {
    "colab": {},
    "colab_type": "code",
    "id": "QKJuDzYxjU8R"
   },
   "outputs": [],
   "source": [
    "train_x,test_x,train_y,test_y = train_test_split(x, y , test_size = 0.25 , random_state = 50, stratify = y)"
   ]
  },
  {
   "cell_type": "markdown",
   "metadata": {
    "colab_type": "text",
    "id": "1i_o-c3gvtIX"
   },
   "source": [
    "### Logistic Regression"
   ]
  },
  {
   "cell_type": "code",
   "execution_count": 0,
   "metadata": {
    "colab": {},
    "colab_type": "code",
    "id": "wQC1OQTPjXCK"
   },
   "outputs": [],
   "source": [
    "reg = linear_model.LogisticRegression() \n",
    "reg.fit(train_x, train_y) \n",
    "y_predicted_test = reg.predict(test_x) "
   ]
  },
  {
   "cell_type": "code",
   "execution_count": 0,
   "metadata": {
    "colab": {
     "base_uri": "https://localhost:8080/",
     "height": 34
    },
    "colab_type": "code",
    "id": "uSfBtavVjZdL",
    "outputId": "a1a84555-4cfe-4d0e-968a-62c3eca3b3eb"
   },
   "outputs": [
    {
     "name": "stdout",
     "output_type": "stream",
     "text": [
      "Logistic regression Accuracy Score ->  74.93702770780857\n"
     ]
    }
   ],
   "source": [
    "# Use accuracy_score function to get the accuracy\n",
    "print(\"Logistic regression Accuracy Score -> \",accuracy_score(y_predicted_test, test_y)*100)"
   ]
  },
  {
   "cell_type": "code",
   "execution_count": 0,
   "metadata": {
    "colab": {
     "base_uri": "https://localhost:8080/",
     "height": 173
    },
    "colab_type": "code",
    "id": "Hl-Y3L2ijcTk",
    "outputId": "ba2e9b90-0165-41f8-c823-9d9032f9c618"
   },
   "outputs": [
    {
     "name": "stdout",
     "output_type": "stream",
     "text": [
      "              precision    recall  f1-score   support\n",
      "\n",
      "           0       0.79      0.85      0.82      1565\n",
      "           1       0.66      0.55      0.60       817\n",
      "\n",
      "    accuracy                           0.75      2382\n",
      "   macro avg       0.72      0.70      0.71      2382\n",
      "weighted avg       0.74      0.75      0.74      2382\n",
      "\n"
     ]
    }
   ],
   "source": [
    "#Classification report\n",
    "print(classification_report(test_y, y_predicted_test))"
   ]
  },
  {
   "cell_type": "code",
   "execution_count": 0,
   "metadata": {
    "colab": {
     "base_uri": "https://localhost:8080/",
     "height": 295
    },
    "colab_type": "code",
    "id": "aT8lXdmnjfYj",
    "outputId": "43c0b4aa-d67f-4f5d-bd9f-27909ec0ea0d"
   },
   "outputs": [
    {
     "data": {
      "image/png": "[encoded data removed]",
      "text/plain": [
       "<Figure size 432x288 with 1 Axes>"
      ]
     },
     "metadata": {
      "needs_background": "light",
      "tags": []
     },
     "output_type": "display_data"
    }
   ],
   "source": [
    "# AUC ROC for Logistic Regression\n",
    "\n",
    "roc_auc = roc_auc_score(test_y, y_predicted_test)\n",
    "fpr, tpr, thresholds = roc_curve(test_y, reg.predict_proba(test_x)[:,1])\n",
    "plt.figure()\n",
    "plt.plot(fpr, tpr, label='Logistic Regression (area = %0.3f)' % roc_auc)\n",
    "plt.plot([0, 1], [0, 1],'r--')\n",
    "plt.xlim([0.0, 1.0])\n",
    "plt.ylim([0.0, 1.05])\n",
    "plt.xlabel('False Positive Rate')\n",
    "plt.ylabel('True Positive Rate')\n",
    "plt.title('Receiver operating characteristic')\n",
    "plt.legend(loc=\"lower right\")\n",
    "plt.show()"
   ]
  },
  {
   "cell_type": "markdown",
   "metadata": {
    "colab_type": "text",
    "id": "1nykJ59Tvx4g"
   },
   "source": [
    "- This model is not performing well."
   ]
  },
  {
   "cell_type": "markdown",
   "metadata": {
    "colab_type": "text",
    "id": "kRlZfihrv1IP"
   },
   "source": [
    "### Random Forest"
   ]
  },
  {
   "cell_type": "code",
   "execution_count": 0,
   "metadata": {
    "colab": {
     "base_uri": "https://localhost:8080/",
     "height": 155
    },
    "colab_type": "code",
    "id": "N8UvMMUTjh_0",
    "outputId": "c6d24177-5473-4783-b06d-302445e089e0"
   },
   "outputs": [
    {
     "data": {
      "text/plain": [
       "RandomForestClassifier(bootstrap=True, ccp_alpha=0.0, class_weight=None,\n",
       "                       criterion='gini', max_depth=25, max_features='auto',\n",
       "                       max_leaf_nodes=None, max_samples=None,\n",
       "                       min_impurity_decrease=0.0, min_impurity_split=None,\n",
       "                       min_samples_leaf=1, min_samples_split=15,\n",
       "                       min_weight_fraction_leaf=0.0, n_estimators=100,\n",
       "                       n_jobs=None, oob_score=False, random_state=0, verbose=0,\n",
       "                       warm_start=False)"
      ]
     },
     "execution_count": 86,
     "metadata": {
      "tags": []
     },
     "output_type": "execute_result"
    }
   ],
   "source": [
    "rf_clf = RandomForestClassifier(n_estimators=100, random_state=0,min_samples_split=15,max_depth=25)\n",
    "#Training the model on train data\n",
    "rf_clf.fit(train_x, train_y)"
   ]
  },
  {
   "cell_type": "code",
   "execution_count": 0,
   "metadata": {
    "colab": {
     "base_uri": "https://localhost:8080/",
     "height": 295
    },
    "colab_type": "code",
    "id": "XPllBQQ4jlsR",
    "outputId": "4bdc1a75-2b8b-4137-f474-80ce5b9191d6"
   },
   "outputs": [
    {
     "data": {
      "image/png": "[encoded data removed]",
      "text/plain": [
       "<Figure size 432x288 with 1 Axes>"
      ]
     },
     "metadata": {
      "needs_background": "light",
      "tags": []
     },
     "output_type": "display_data"
    }
   ],
   "source": [
    "# AUC ROC for Random Forest\n",
    "y_predicted_test=rf_clf.predict(test_x)\n",
    "roc_auc = roc_auc_score(test_y, y_predicted_test)\n",
    "fpr, tpr, thresholds = roc_curve(test_y, rf_clf.predict_proba(test_x)[:,1])\n",
    "plt.figure()\n",
    "plt.plot(fpr, tpr, label='Random Forest (area = %0.3f)' % roc_auc)\n",
    "plt.plot([0, 1], [0, 1],'r--')\n",
    "plt.xlim([0.0, 1.0])\n",
    "plt.ylim([0.0, 1.05])\n",
    "plt.xlabel('False Positive Rate')\n",
    "plt.ylabel('True Positive Rate')\n",
    "plt.title('Receiver operating characteristic')\n",
    "plt.legend(loc=\"lower right\")\n",
    "plt.show()"
   ]
  },
  {
   "cell_type": "code",
   "execution_count": 0,
   "metadata": {
    "colab": {
     "base_uri": "https://localhost:8080/",
     "height": 34
    },
    "colab_type": "code",
    "id": "7q9YROw1jnlq",
    "outputId": "76965606-bd81-4d2f-b0cd-133608e7a95d"
   },
   "outputs": [
    {
     "name": "stdout",
     "output_type": "stream",
     "text": [
      "Random Forest Accuracy Score ->  76.91015952980689\n"
     ]
    }
   ],
   "source": [
    "# Use accuracy_score function to get the accuracy\n",
    "y_predicted_test=rf_clf.predict(test_x)\n",
    "print(\"Random Forest Accuracy Score -> \",accuracy_score(y_predicted_test,test_y)*100)"
   ]
  },
  {
   "cell_type": "code",
   "execution_count": 0,
   "metadata": {
    "colab": {
     "base_uri": "https://localhost:8080/",
     "height": 173
    },
    "colab_type": "code",
    "id": "4M5VNNNIjswd",
    "outputId": "e93a8100-745f-452a-b3b5-fd9ebcceb1b7"
   },
   "outputs": [
    {
     "name": "stdout",
     "output_type": "stream",
     "text": [
      "              precision    recall  f1-score   support\n",
      "\n",
      "           0       0.80      0.86      0.83      1565\n",
      "           1       0.69      0.60      0.64       817\n",
      "\n",
      "    accuracy                           0.77      2382\n",
      "   macro avg       0.75      0.73      0.73      2382\n",
      "weighted avg       0.76      0.77      0.76      2382\n",
      "\n"
     ]
    }
   ],
   "source": [
    "#Classification report\n",
    "print(classification_report(test_y, y_predicted_test))"
   ]
  },
  {
   "cell_type": "code",
   "execution_count": 0,
   "metadata": {
    "colab": {
     "base_uri": "https://localhost:8080/",
     "height": 638
    },
    "colab_type": "code",
    "id": "2c7Ba7mpjvHu",
    "outputId": "d723783b-f3bd-4ea2-a1f4-51328f059549"
   },
   "outputs": [
    {
     "data": {
      "text/plain": [
       "Text(0.5, 0, 'Relative Importance')"
      ]
     },
     "execution_count": 90,
     "metadata": {
      "tags": []
     },
     "output_type": "execute_result"
    },
    {
     "data": {
      "image/png": "[encoded data removed]",
      "text/plain": [
       "<Figure size 1080x720 with 1 Axes>"
      ]
     },
     "metadata": {
      "needs_background": "light",
      "tags": []
     },
     "output_type": "display_data"
    }
   ],
   "source": [
    "plt.figure(figsize=(15,10))\n",
    "plt.title('Feature Importances')\n",
    "plt.barh(train_x.columns, rf_clf.feature_importances_, color='b', align='center')\n",
    "plt.yticks(train_x.columns)\n",
    "plt.xlabel('Relative Importance')"
   ]
  },
  {
   "cell_type": "markdown",
   "metadata": {
    "colab_type": "text",
    "id": "QkHVfuWuv6F4"
   },
   "source": [
    "- This model is giving an auc-roc of 0.724 which is decent."
   ]
  },
  {
   "cell_type": "markdown",
   "metadata": {
    "colab_type": "text",
    "id": "8wmZTRAnwByx"
   },
   "source": [
    "### XGBoost"
   ]
  },
  {
   "cell_type": "code",
   "execution_count": 0,
   "metadata": {
    "colab": {
     "base_uri": "https://localhost:8080/",
     "height": 138
    },
    "colab_type": "code",
    "id": "FpJ-4wp0jx2n",
    "outputId": "fd92b060-1ca6-4838-a67e-b3f57ce02a69"
   },
   "outputs": [
    {
     "data": {
      "text/plain": [
       "XGBClassifier(alpha=10, base_score=0.5, booster='gbtree', colsample_bylevel=1,\n",
       "              colsample_bynode=1, colsample_bytree=0.9, gamma=0,\n",
       "              learning_rate=0.4, max_delta_step=0, max_depth=25,\n",
       "              min_child_weight=1, missing=None, n_estimators=100, n_jobs=1,\n",
       "              nthread=None, objective='binary:logistic', random_state=0,\n",
       "              reg_alpha=0, reg_lambda=1, scale_pos_weight=1, seed=None,\n",
       "              silent=None, subsample=1, verbosity=1)"
      ]
     },
     "execution_count": 91,
     "metadata": {
      "tags": []
     },
     "output_type": "execute_result"
    }
   ],
   "source": [
    "#Creating a xgboost classifier object with a random state for reproducible results\n",
    "xg_clf = XGBClassifier(objective ='binary:logistic', colsample_bytree = 0.9, learning_rate = 0.4,\n",
    "                max_depth = 25, alpha = 10, n_estimators = 100)\n",
    "#Training the model on train data\n",
    "xg_clf.fit(train_x,train_y)"
   ]
  },
  {
   "cell_type": "code",
   "execution_count": 0,
   "metadata": {
    "colab": {
     "base_uri": "https://localhost:8080/",
     "height": 295
    },
    "colab_type": "code",
    "id": "qvXuciGIkBCz",
    "outputId": "1b6468ed-47b3-4db0-b02c-0f4b316efa4d"
   },
   "outputs": [
    {
     "data": {
      "image/png": "[encoded data removed]",
      "text/plain": [
       "<Figure size 432x288 with 1 Axes>"
      ]
     },
     "metadata": {
      "needs_background": "light",
      "tags": []
     },
     "output_type": "display_data"
    }
   ],
   "source": [
    "# AUC ROC for xgboost\n",
    "\n",
    "roc_auc = roc_auc_score(test_y, y_predicted_test)\n",
    "fpr, tpr, thresholds = roc_curve(test_y, xg_clf.predict_proba(test_x)[:,1])\n",
    "plt.figure()\n",
    "plt.plot(fpr, tpr, label='xgboost (area = %0.3f)' % roc_auc)\n",
    "plt.plot([0, 1], [0, 1],'r--')\n",
    "plt.xlim([0.0, 1.0])\n",
    "plt.ylim([0.0, 1.05])\n",
    "plt.xlabel('False Positive Rate')\n",
    "plt.ylabel('True Positive Rate')\n",
    "plt.title('Receiver operating characteristic')\n",
    "plt.legend(loc=\"lower right\")\n",
    "plt.show()"
   ]
  },
  {
   "cell_type": "code",
   "execution_count": 0,
   "metadata": {
    "colab": {
     "base_uri": "https://localhost:8080/",
     "height": 34
    },
    "colab_type": "code",
    "id": "Dmcfalh-j8kp",
    "outputId": "58e95c35-3349-448d-cde1-552b9cccf156"
   },
   "outputs": [
    {
     "name": "stdout",
     "output_type": "stream",
     "text": [
      "xgboost Accuracy Score ->  75.77665827036104\n"
     ]
    }
   ],
   "source": [
    "# Use accuracy_score function to get the accuracy\n",
    "y_predicted_test=xg_clf.predict(test_x)\n",
    "print(\"xgboost Accuracy Score -> \",accuracy_score(y_predicted_test, test_y)*100)"
   ]
  },
  {
   "cell_type": "code",
   "execution_count": 0,
   "metadata": {
    "colab": {
     "base_uri": "https://localhost:8080/",
     "height": 173
    },
    "colab_type": "code",
    "id": "UuTfg_XJj-uw",
    "outputId": "67be4c2f-b6c8-431f-d8ba-783c2da6abb9"
   },
   "outputs": [
    {
     "name": "stdout",
     "output_type": "stream",
     "text": [
      "              precision    recall  f1-score   support\n",
      "\n",
      "           0       0.80      0.84      0.82      1565\n",
      "           1       0.66      0.60      0.63       817\n",
      "\n",
      "    accuracy                           0.76      2382\n",
      "   macro avg       0.73      0.72      0.72      2382\n",
      "weighted avg       0.75      0.76      0.75      2382\n",
      "\n"
     ]
    }
   ],
   "source": [
    "#Classification report\n",
    "print(classification_report(test_y, y_predicted_test))"
   ]
  },
  {
   "cell_type": "markdown",
   "metadata": {
    "colab_type": "text",
    "id": "W98Jw3wzwGRJ"
   },
   "source": [
    "- This model is giving an auc-roc of 0.704."
   ]
  },
  {
   "cell_type": "markdown",
   "metadata": {
    "colab_type": "text",
    "id": "a-cpcqp6FFtc"
   },
   "source": [
    "### Keras Binary Classification"
   ]
  },
  {
   "cell_type": "code",
   "execution_count": 0,
   "metadata": {
    "colab": {
     "base_uri": "https://localhost:8080/",
     "height": 34
    },
    "colab_type": "code",
    "id": "u3omwCUHgGcR",
    "outputId": "e77417fb-6814-49e3-d41a-acea1bd987bf"
   },
   "outputs": [
    {
     "name": "stderr",
     "output_type": "stream",
     "text": [
      "Using TensorFlow backend.\n"
     ]
    }
   ],
   "source": [
    "from keras import models\n",
    "from keras import layers\n",
    "import tensorflow as tf"
   ]
  },
  {
   "cell_type": "code",
   "execution_count": 0,
   "metadata": {
    "colab": {
     "base_uri": "https://localhost:8080/",
     "height": 34
    },
    "colab_type": "code",
    "id": "nkkh5LVzhE_v",
    "outputId": "f11cb2c9-418c-4c10-def4-f1cee1805423"
   },
   "outputs": [
    {
     "data": {
      "text/plain": [
       "(7145, 20)"
      ]
     },
     "execution_count": 96,
     "metadata": {
      "tags": []
     },
     "output_type": "execute_result"
    }
   ],
   "source": [
    "train_x.shape"
   ]
  },
  {
   "cell_type": "code",
   "execution_count": 0,
   "metadata": {
    "colab": {},
    "colab_type": "code",
    "id": "blTYBOJlh6HU"
   },
   "outputs": [],
   "source": [
    "train_x_tensor = np.asarray(train_x).astype('float32')\n",
    "train_y_tensor = np.asarray(train_y).astype('float32')\n",
    "test_x_tensor = np.asarray(test_x).astype('float32')\n",
    "test_y_tensor = np.asarray(test_y).astype('float32')"
   ]
  },
  {
   "cell_type": "code",
   "execution_count": 0,
   "metadata": {
    "colab": {},
    "colab_type": "code",
    "id": "G6kjI6C8jxFG"
   },
   "outputs": [],
   "source": [
    "model = models.Sequential()\n",
    "model.add(layers.Dense(8, activation='relu', input_shape=(20,)))\n",
    "model.add(layers.Dense(4, activation='relu'))\n",
    "model.add(layers.Dense(1, activation='sigmoid'))"
   ]
  },
  {
   "cell_type": "code",
   "execution_count": 0,
   "metadata": {
    "colab": {},
    "colab_type": "code",
    "id": "oAXosAUPm9so"
   },
   "outputs": [],
   "source": [
    "model.compile(optimizer='rmsprop',\n",
    "loss='binary_crossentropy',\n",
    "metrics=['accuracy'])"
   ]
  },
  {
   "cell_type": "code",
   "execution_count": 236,
   "metadata": {
    "colab": {
     "base_uri": "https://localhost:8080/",
     "height": 933
    },
    "colab_type": "code",
    "id": "9aZhVGwbnIfq",
    "outputId": "42e1b425-df21-49c3-fc65-55620f96ed44"
   },
   "outputs": [
    {
     "name": "stdout",
     "output_type": "stream",
     "text": [
      "Train on 5000 samples, validate on 2145 samples\n",
      "Epoch 1/26\n",
      "5000/5000 [==============================] - 1s 163us/step - loss: 0.6676 - accuracy: 0.6328 - val_loss: 0.6491 - val_accuracy: 0.6578\n",
      "Epoch 2/26\n",
      "5000/5000 [==============================] - 1s 130us/step - loss: 0.6453 - accuracy: 0.6568 - val_loss: 0.6431 - val_accuracy: 0.6578\n",
      "Epoch 3/26\n",
      "5000/5000 [==============================] - 1s 131us/step - loss: 0.6413 - accuracy: 0.6568 - val_loss: 0.6395 - val_accuracy: 0.6578\n",
      "Epoch 4/26\n",
      "5000/5000 [==============================] - 1s 136us/step - loss: 0.6369 - accuracy: 0.6568 - val_loss: 0.6362 - val_accuracy: 0.6578\n",
      "Epoch 5/26\n",
      "5000/5000 [==============================] - 1s 132us/step - loss: 0.6323 - accuracy: 0.6572 - val_loss: 0.6295 - val_accuracy: 0.6578\n",
      "Epoch 6/26\n",
      "5000/5000 [==============================] - 1s 127us/step - loss: 0.6257 - accuracy: 0.6584 - val_loss: 0.6210 - val_accuracy: 0.6569\n",
      "Epoch 7/26\n",
      "5000/5000 [==============================] - 1s 126us/step - loss: 0.6160 - accuracy: 0.6610 - val_loss: 0.6094 - val_accuracy: 0.6592\n",
      "Epoch 8/26\n",
      "5000/5000 [==============================] - 1s 131us/step - loss: 0.6042 - accuracy: 0.6648 - val_loss: 0.5953 - val_accuracy: 0.6751\n",
      "Epoch 9/26\n",
      "5000/5000 [==============================] - 1s 133us/step - loss: 0.5890 - accuracy: 0.6698 - val_loss: 0.5787 - val_accuracy: 0.6834\n",
      "Epoch 10/26\n",
      "5000/5000 [==============================] - 1s 136us/step - loss: 0.5732 - accuracy: 0.6782 - val_loss: 0.5636 - val_accuracy: 0.6988\n",
      "Epoch 11/26\n",
      "5000/5000 [==============================] - 1s 129us/step - loss: 0.5580 - accuracy: 0.6910 - val_loss: 0.5484 - val_accuracy: 0.6956\n",
      "Epoch 12/26\n",
      "5000/5000 [==============================] - 1s 126us/step - loss: 0.5436 - accuracy: 0.7086 - val_loss: 0.5355 - val_accuracy: 0.7221\n",
      "Epoch 13/26\n",
      "5000/5000 [==============================] - 1s 130us/step - loss: 0.5315 - accuracy: 0.7168 - val_loss: 0.5358 - val_accuracy: 0.7347\n",
      "Epoch 14/26\n",
      "5000/5000 [==============================] - 1s 128us/step - loss: 0.5232 - accuracy: 0.7290 - val_loss: 0.5173 - val_accuracy: 0.7310\n",
      "Epoch 15/26\n",
      "5000/5000 [==============================] - 1s 126us/step - loss: 0.5157 - accuracy: 0.7390 - val_loss: 0.5109 - val_accuracy: 0.7417\n",
      "Epoch 16/26\n",
      "5000/5000 [==============================] - 1s 135us/step - loss: 0.5102 - accuracy: 0.7420 - val_loss: 0.5124 - val_accuracy: 0.7585\n",
      "Epoch 17/26\n",
      "5000/5000 [==============================] - 1s 130us/step - loss: 0.5065 - accuracy: 0.7450 - val_loss: 0.5035 - val_accuracy: 0.7422\n",
      "Epoch 18/26\n",
      "5000/5000 [==============================] - 1s 133us/step - loss: 0.5038 - accuracy: 0.7450 - val_loss: 0.5053 - val_accuracy: 0.7613\n",
      "Epoch 19/26\n",
      "5000/5000 [==============================] - 1s 134us/step - loss: 0.5020 - accuracy: 0.7470 - val_loss: 0.4999 - val_accuracy: 0.7459\n",
      "Epoch 20/26\n",
      "5000/5000 [==============================] - 1s 132us/step - loss: 0.4999 - accuracy: 0.7500 - val_loss: 0.4983 - val_accuracy: 0.7501\n",
      "Epoch 21/26\n",
      "5000/5000 [==============================] - 1s 136us/step - loss: 0.4987 - accuracy: 0.7506 - val_loss: 0.4977 - val_accuracy: 0.7510\n",
      "Epoch 22/26\n",
      "5000/5000 [==============================] - 1s 129us/step - loss: 0.4986 - accuracy: 0.7530 - val_loss: 0.4984 - val_accuracy: 0.7594\n",
      "Epoch 23/26\n",
      "5000/5000 [==============================] - 1s 130us/step - loss: 0.4982 - accuracy: 0.7500 - val_loss: 0.4991 - val_accuracy: 0.7590\n",
      "Epoch 24/26\n",
      "5000/5000 [==============================] - 1s 142us/step - loss: 0.4973 - accuracy: 0.7548 - val_loss: 0.4975 - val_accuracy: 0.7576\n",
      "Epoch 25/26\n",
      "5000/5000 [==============================] - 1s 126us/step - loss: 0.4967 - accuracy: 0.7554 - val_loss: 0.4965 - val_accuracy: 0.7562\n",
      "Epoch 26/26\n",
      "5000/5000 [==============================] - 1s 124us/step - loss: 0.4968 - accuracy: 0.7530 - val_loss: 0.4974 - val_accuracy: 0.7599\n"
     ]
    }
   ],
   "source": [
    "history = model.fit(train_x_tensor[:5000],\n",
    "train_y_tensor[:5000],\n",
    "epochs=26,\n",
    "batch_size=32,\n",
    "validation_data=(train_x_tensor[5000:], train_y_tensor[5000:]))"
   ]
  },
  {
   "cell_type": "code",
   "execution_count": 237,
   "metadata": {
    "colab": {
     "base_uri": "https://localhost:8080/",
     "height": 34
    },
    "colab_type": "code",
    "id": "jCvymB1cnqXN",
    "outputId": "bae53c07-53fb-4f64-c936-1517938a6a4a"
   },
   "outputs": [
    {
     "data": {
      "text/plain": [
       "dict_keys(['val_loss', 'val_accuracy', 'loss', 'accuracy'])"
      ]
     },
     "execution_count": 237,
     "metadata": {
      "tags": []
     },
     "output_type": "execute_result"
    }
   ],
   "source": [
    "history_dict = history.history\n",
    "history_dict.keys()"
   ]
  },
  {
   "cell_type": "code",
   "execution_count": 238,
   "metadata": {
    "colab": {
     "base_uri": "https://localhost:8080/",
     "height": 312
    },
    "colab_type": "code",
    "id": "OyZ0soD1nb28",
    "outputId": "ec0d8e43-26f5-4b4c-814b-1ef309cc4b50"
   },
   "outputs": [
    {
     "data": {
      "text/plain": [
       "<matplotlib.legend.Legend at 0x7f9c5754f588>"
      ]
     },
     "execution_count": 238,
     "metadata": {
      "tags": []
     },
     "output_type": "execute_result"
    },
    {
     "data": {
      "image/png": "[encoded data removed]",
      "text/plain": [
       "<Figure size 432x288 with 1 Axes>"
      ]
     },
     "metadata": {
      "needs_background": "light",
      "tags": []
     },
     "output_type": "display_data"
    }
   ],
   "source": [
    "history_dict = history.history\n",
    "loss_values = history_dict['loss']\n",
    "val_loss_values = history_dict['val_loss']\n",
    "epochs = range(1, len(history_dict['accuracy']) + 1)\n",
    "plt.plot(epochs, loss_values, 'bo', label='Training loss')\n",
    "plt.plot(epochs, val_loss_values, 'b', label='Validation loss')\n",
    "plt.title('Training and validation loss')\n",
    "plt.xlabel('Epochs')\n",
    "plt.ylabel('Loss')\n",
    "plt.legend()"
   ]
  },
  {
   "cell_type": "code",
   "execution_count": 0,
   "metadata": {
    "colab": {},
    "colab_type": "code",
    "id": "AOaPHwxVs2HU"
   },
   "outputs": [],
   "source": [
    "pred=model.predict(test_x)"
   ]
  },
  {
   "cell_type": "code",
   "execution_count": 0,
   "metadata": {
    "colab": {},
    "colab_type": "code",
    "id": "rbpoz-AE113e"
   },
   "outputs": [],
   "source": [
    "prediction=[]\n",
    "for p in pred:\n",
    "    if p<0.5:\n",
    "        prediction.append(0)\n",
    "    else:\n",
    "        prediction.append(1)  "
   ]
  },
  {
   "cell_type": "code",
   "execution_count": 241,
   "metadata": {
    "colab": {
     "base_uri": "https://localhost:8080/",
     "height": 34
    },
    "colab_type": "code",
    "id": "IdLpoAnp1gN-",
    "outputId": "d4c33e2c-8ddd-4d7f-ec61-5f71467ddf7c"
   },
   "outputs": [
    {
     "name": "stdout",
     "output_type": "stream",
     "text": [
      "Neural Network Accuracy Score ->  75.73467674223342\n"
     ]
    }
   ],
   "source": [
    "# Use accuracy_score function to get the accuracy\n",
    "print(\"Neural Network Accuracy Score -> \",accuracy_score(prediction, test_y)*100)"
   ]
  },
  {
   "cell_type": "code",
   "execution_count": 242,
   "metadata": {
    "colab": {
     "base_uri": "https://localhost:8080/",
     "height": 173
    },
    "colab_type": "code",
    "id": "elO3DtI51ngX",
    "outputId": "d0a0a112-a391-47ce-d99c-070426d583df"
   },
   "outputs": [
    {
     "name": "stdout",
     "output_type": "stream",
     "text": [
      "              precision    recall  f1-score   support\n",
      "\n",
      "           0       0.81      0.82      0.82      1565\n",
      "           1       0.65      0.64      0.64       817\n",
      "\n",
      "    accuracy                           0.76      2382\n",
      "   macro avg       0.73      0.73      0.73      2382\n",
      "weighted avg       0.76      0.76      0.76      2382\n",
      "\n"
     ]
    }
   ],
   "source": [
    "#Classification report\n",
    "print(classification_report(test_y, prediction))"
   ]
  },
  {
   "cell_type": "code",
   "execution_count": 243,
   "metadata": {
    "colab": {
     "base_uri": "https://localhost:8080/",
     "height": 295
    },
    "colab_type": "code",
    "id": "4VlmECTVsUYE",
    "outputId": "e6b5aa9c-d77f-4616-dfdd-9511180fda3c"
   },
   "outputs": [
    {
     "data": {
      "image/png": "[encoded data removed]",
      "text/plain": [
       "<Figure size 432x288 with 1 Axes>"
      ]
     },
     "metadata": {
      "needs_background": "light",
      "tags": []
     },
     "output_type": "display_data"
    }
   ],
   "source": [
    "# AUC ROC for Neural Network\n",
    "\n",
    "roc_auc = roc_auc_score(test_y, prediction)\n",
    "fpr, tpr, thresholds = roc_curve(test_y, pred)\n",
    "plt.figure()\n",
    "plt.plot(fpr, tpr, label='Neural Network (area = %0.3f)' % roc_auc)\n",
    "plt.plot([0, 1], [0, 1],'r--')\n",
    "plt.xlim([0.0, 1.0])\n",
    "plt.ylim([0.0, 1.05])\n",
    "plt.xlabel('False Positive Rate')\n",
    "plt.ylabel('True Positive Rate')\n",
    "plt.title('Receiver operating characteristic')\n",
    "plt.legend(loc=\"lower right\")\n",
    "plt.show()"
   ]
  },
  {
   "cell_type": "code",
   "execution_count": 244,
   "metadata": {
    "colab": {
     "base_uri": "https://localhost:8080/",
     "height": 916
    },
    "colab_type": "code",
    "id": "qOl-gkWckClG",
    "outputId": "cbf26a73-a6ad-4bb2-8f9b-34b49d2ff522"
   },
   "outputs": [
    {
     "name": "stdout",
     "output_type": "stream",
     "text": [
      "Train on 7000 samples, validate on 2527 samples\n",
      "Epoch 1/25\n",
      "7000/7000 [==============================] - 1s 131us/step - loss: 0.4882 - accuracy: 0.7589 - val_loss: 0.5145 - val_accuracy: 0.7293\n",
      "Epoch 2/25\n",
      "7000/7000 [==============================] - 1s 129us/step - loss: 0.4869 - accuracy: 0.7637 - val_loss: 0.5275 - val_accuracy: 0.7190\n",
      "Epoch 3/25\n",
      "7000/7000 [==============================] - 1s 130us/step - loss: 0.4865 - accuracy: 0.7636 - val_loss: 0.5175 - val_accuracy: 0.7281\n",
      "Epoch 4/25\n",
      "7000/7000 [==============================] - 1s 135us/step - loss: 0.4855 - accuracy: 0.7619 - val_loss: 0.5168 - val_accuracy: 0.7269\n",
      "Epoch 5/25\n",
      "7000/7000 [==============================] - 1s 134us/step - loss: 0.4849 - accuracy: 0.7631 - val_loss: 0.5305 - val_accuracy: 0.7159\n",
      "Epoch 6/25\n",
      "7000/7000 [==============================] - 1s 129us/step - loss: 0.4841 - accuracy: 0.7639 - val_loss: 0.5292 - val_accuracy: 0.7198\n",
      "Epoch 7/25\n",
      "7000/7000 [==============================] - 1s 128us/step - loss: 0.4843 - accuracy: 0.7647 - val_loss: 0.5297 - val_accuracy: 0.7194\n",
      "Epoch 8/25\n",
      "7000/7000 [==============================] - 1s 127us/step - loss: 0.4835 - accuracy: 0.7661 - val_loss: 0.5148 - val_accuracy: 0.7345\n",
      "Epoch 9/25\n",
      "7000/7000 [==============================] - 1s 131us/step - loss: 0.4836 - accuracy: 0.7649 - val_loss: 0.5273 - val_accuracy: 0.7222\n",
      "Epoch 10/25\n",
      "7000/7000 [==============================] - 1s 129us/step - loss: 0.4829 - accuracy: 0.7649 - val_loss: 0.5151 - val_accuracy: 0.7368\n",
      "Epoch 11/25\n",
      "7000/7000 [==============================] - 1s 128us/step - loss: 0.4828 - accuracy: 0.7650 - val_loss: 0.5175 - val_accuracy: 0.7357\n",
      "Epoch 12/25\n",
      "7000/7000 [==============================] - 1s 125us/step - loss: 0.4828 - accuracy: 0.7654 - val_loss: 0.5257 - val_accuracy: 0.7254\n",
      "Epoch 13/25\n",
      "7000/7000 [==============================] - 1s 126us/step - loss: 0.4824 - accuracy: 0.7664 - val_loss: 0.5238 - val_accuracy: 0.7234\n",
      "Epoch 14/25\n",
      "7000/7000 [==============================] - 1s 125us/step - loss: 0.4821 - accuracy: 0.7634 - val_loss: 0.5208 - val_accuracy: 0.7305\n",
      "Epoch 15/25\n",
      "7000/7000 [==============================] - 1s 127us/step - loss: 0.4817 - accuracy: 0.7653 - val_loss: 0.5248 - val_accuracy: 0.7269\n",
      "Epoch 16/25\n",
      "7000/7000 [==============================] - 1s 133us/step - loss: 0.4814 - accuracy: 0.7661 - val_loss: 0.5190 - val_accuracy: 0.7329\n",
      "Epoch 17/25\n",
      "7000/7000 [==============================] - 1s 130us/step - loss: 0.4813 - accuracy: 0.7651 - val_loss: 0.5372 - val_accuracy: 0.7190\n",
      "Epoch 18/25\n",
      "7000/7000 [==============================] - 1s 126us/step - loss: 0.4805 - accuracy: 0.7663 - val_loss: 0.5261 - val_accuracy: 0.7258\n",
      "Epoch 19/25\n",
      "7000/7000 [==============================] - 1s 126us/step - loss: 0.4804 - accuracy: 0.7674 - val_loss: 0.5272 - val_accuracy: 0.7254\n",
      "Epoch 20/25\n",
      "7000/7000 [==============================] - 1s 126us/step - loss: 0.4805 - accuracy: 0.7680 - val_loss: 0.5241 - val_accuracy: 0.7305\n",
      "Epoch 21/25\n",
      "7000/7000 [==============================] - 1s 130us/step - loss: 0.4801 - accuracy: 0.7689 - val_loss: 0.5265 - val_accuracy: 0.7269\n",
      "Epoch 22/25\n",
      "7000/7000 [==============================] - 1s 132us/step - loss: 0.4800 - accuracy: 0.7631 - val_loss: 0.5264 - val_accuracy: 0.7281\n",
      "Epoch 23/25\n",
      "7000/7000 [==============================] - 1s 132us/step - loss: 0.4796 - accuracy: 0.7664 - val_loss: 0.5329 - val_accuracy: 0.7210\n",
      "Epoch 24/25\n",
      "7000/7000 [==============================] - 1s 130us/step - loss: 0.4801 - accuracy: 0.7670 - val_loss: 0.5225 - val_accuracy: 0.7317\n",
      "Epoch 25/25\n",
      "7000/7000 [==============================] - 1s 127us/step - loss: 0.4796 - accuracy: 0.7676 - val_loss: 0.5284 - val_accuracy: 0.7266\n"
     ]
    },
    {
     "data": {
      "text/plain": [
       "<keras.callbacks.callbacks.History at 0x7f9c575307f0>"
      ]
     },
     "execution_count": 244,
     "metadata": {
      "tags": []
     },
     "output_type": "execute_result"
    }
   ],
   "source": [
    "#rf_clf.fit(x, y)\n",
    "x_tensor = np.asarray(x).astype('float32')\n",
    "y_tensor = np.asarray(y).astype('float32')\n",
    "model.fit(x_tensor[:7000],\n",
    "y_tensor[:7000],\n",
    "epochs=25,\n",
    "batch_size=32,\n",
    "validation_data=(x_tensor[7000:], y_tensor[7000:]))"
   ]
  },
  {
   "cell_type": "markdown",
   "metadata": {
    "colab_type": "text",
    "id": "M3tQKiv5wM45"
   },
   "source": [
    "- Training the best model on the complete data."
   ]
  },
  {
   "cell_type": "code",
   "execution_count": 0,
   "metadata": {
    "colab": {},
    "colab_type": "code",
    "id": "Ql3NE_AlpbcA"
   },
   "outputs": [],
   "source": [
    "# All the preprocessing has already been done on the test data in a separate notebook for easy understanding.\n",
    "test=pd.read_csv(r'/content/drive/My Drive/InitiateAI-Test.csv')"
   ]
  },
  {
   "cell_type": "code",
   "execution_count": 267,
   "metadata": {
    "colab": {
     "base_uri": "https://localhost:8080/",
     "height": 34
    },
    "colab_type": "code",
    "id": "kM7GjSxnxnvd",
    "outputId": "c9fcc2ad-e27a-40c9-c18e-1bb9c07c4c8d"
   },
   "outputs": [
    {
     "data": {
      "text/plain": [
       "(5045, 20)"
      ]
     },
     "execution_count": 267,
     "metadata": {
      "tags": []
     },
     "output_type": "execute_result"
    }
   ],
   "source": [
    "test.shape"
   ]
  },
  {
   "cell_type": "code",
   "execution_count": 0,
   "metadata": {
    "colab": {},
    "colab_type": "code",
    "id": "XaXE3dotHm7a"
   },
   "outputs": [],
   "source": [
    "#test=test-test.mean(axis=0)\n",
    "#test=test/test.std(axis=0)\n",
    "for col in test.columns:\n",
    "    test[col]=(test[col]-min(test[col]))/(max(test[col])-min(test[col]))"
   ]
  },
  {
   "cell_type": "code",
   "execution_count": 0,
   "metadata": {
    "colab": {},
    "colab_type": "code",
    "id": "YJ-3woyPpima"
   },
   "outputs": [],
   "source": [
    "#predictions=rf_clf.predict(test)\n",
    "pred=model.predict(test)"
   ]
  },
  {
   "cell_type": "code",
   "execution_count": 0,
   "metadata": {
    "colab": {},
    "colab_type": "code",
    "id": "wEMx-kurxEED"
   },
   "outputs": [],
   "source": [
    "predictions=[]\n",
    "for p in pred:\n",
    "    if p<0.5:\n",
    "        predictions.append(0)\n",
    "    else:\n",
    "        predictions.append(1)  "
   ]
  },
  {
   "cell_type": "code",
   "execution_count": 275,
   "metadata": {
    "colab": {
     "base_uri": "https://localhost:8080/",
     "height": 98
    },
    "colab_type": "code",
    "id": "q6s_3Sn-qHmE",
    "outputId": "8489dca3-0a8f-4765-f3ff-a8e1fb0432be"
   },
   "outputs": [
    {
     "data": {
      "text/html": [
       "<div>\n",
       "<style scoped>\n",
       "    .dataframe tbody tr th:only-of-type {\n",
       "        vertical-align: middle;\n",
       "    }\n",
       "\n",
       "    .dataframe tbody tr th {\n",
       "        vertical-align: top;\n",
       "    }\n",
       "\n",
       "    .dataframe thead th {\n",
       "        text-align: right;\n",
       "    }\n",
       "</style>\n",
       "<table border=\"1\" class=\"dataframe\">\n",
       "  <thead>\n",
       "    <tr style=\"text-align: right;\">\n",
       "      <th></th>\n",
       "      <th>ID</th>\n",
       "      <th>Office_PIN</th>\n",
       "      <th>Application_Receipt_Date</th>\n",
       "      <th>Applicant_City_PIN</th>\n",
       "      <th>Applicant_Gender</th>\n",
       "      <th>Applicant_BirthDate</th>\n",
       "      <th>Applicant_Marital_Status</th>\n",
       "      <th>Applicant_Occupation</th>\n",
       "      <th>Applicant_Qualification</th>\n",
       "      <th>Manager_DOJ</th>\n",
       "      <th>Manager_Joining_Designation</th>\n",
       "      <th>Manager_Current_Designation</th>\n",
       "      <th>Manager_Grade</th>\n",
       "      <th>Manager_Status</th>\n",
       "      <th>Manager_Gender</th>\n",
       "      <th>Manager_DoB</th>\n",
       "      <th>Manager_Num_Application</th>\n",
       "      <th>Manager_Num_Coded</th>\n",
       "      <th>Manager_Business</th>\n",
       "      <th>Manager_Num_Products</th>\n",
       "      <th>Manager_Business2</th>\n",
       "      <th>Manager_Num_Products2</th>\n",
       "    </tr>\n",
       "  </thead>\n",
       "  <tbody>\n",
       "    <tr>\n",
       "      <th>0</th>\n",
       "      <td>FIN1009528</td>\n",
       "      <td>284001</td>\n",
       "      <td>7/2/2008</td>\n",
       "      <td>284001.0</td>\n",
       "      <td>M</td>\n",
       "      <td>8/5/1982</td>\n",
       "      <td>S</td>\n",
       "      <td>Salaried</td>\n",
       "      <td>Graduate</td>\n",
       "      <td>5/26/2008</td>\n",
       "      <td>Level 1</td>\n",
       "      <td>Level 1</td>\n",
       "      <td>2.0</td>\n",
       "      <td>Probation</td>\n",
       "      <td>F</td>\n",
       "      <td>10/14/1978</td>\n",
       "      <td>1.0</td>\n",
       "      <td>0.0</td>\n",
       "      <td>0.0</td>\n",
       "      <td>0.0</td>\n",
       "      <td>0.0</td>\n",
       "      <td>0.0</td>\n",
       "    </tr>\n",
       "  </tbody>\n",
       "</table>\n",
       "</div>"
      ],
      "text/plain": [
       "           ID  Office_PIN  ... Manager_Business2  Manager_Num_Products2\n",
       "0  FIN1009528      284001  ...               0.0                    0.0\n",
       "\n",
       "[1 rows x 22 columns]"
      ]
     },
     "execution_count": 275,
     "metadata": {
      "tags": []
     },
     "output_type": "execute_result"
    }
   ],
   "source": [
    "ids=pd.read_csv(r'/content/drive/My Drive/Test_TIw7j6k.csv')\n",
    "ids.head(1)"
   ]
  },
  {
   "cell_type": "code",
   "execution_count": 276,
   "metadata": {
    "colab": {
     "base_uri": "https://localhost:8080/",
     "height": 34
    },
    "colab_type": "code",
    "id": "IPaBUyACqvLV",
    "outputId": "f9933679-57d5-43b7-f6b9-e4a876873a61"
   },
   "outputs": [
    {
     "data": {
      "text/plain": [
       "5045"
      ]
     },
     "execution_count": 276,
     "metadata": {
      "tags": []
     },
     "output_type": "execute_result"
    }
   ],
   "source": [
    "len(predictions)"
   ]
  },
  {
   "cell_type": "code",
   "execution_count": 277,
   "metadata": {
    "colab": {
     "base_uri": "https://localhost:8080/",
     "height": 1000
    },
    "colab_type": "code",
    "id": "J8IjWOc5rlUq",
    "outputId": "388f645c-5983-47eb-900d-88c314743afd"
   },
   "outputs": [
    {
     "data": {
      "text/plain": [
       "[1,\n",
       " 1,\n",
       " 1,\n",
       " 1,\n",
       " 1,\n",
       " 1,\n",
       " 1,\n",
       " 1,\n",
       " 1,\n",
       " 1,\n",
       " 1,\n",
       " 1,\n",
       " 1,\n",
       " 1,\n",
       " 1,\n",
       " 1,\n",
       " 1,\n",
       " 1,\n",
       " 1,\n",
       " 1,\n",
       " 1,\n",
       " 0,\n",
       " 1,\n",
       " 1,\n",
       " 1,\n",
       " 0,\n",
       " 1,\n",
       " 0,\n",
       " 1,\n",
       " 0,\n",
       " 0,\n",
       " 0,\n",
       " 0,\n",
       " 0,\n",
       " 1,\n",
       " 1,\n",
       " 1,\n",
       " 1,\n",
       " 1,\n",
       " 1,\n",
       " 1,\n",
       " 1,\n",
       " 1,\n",
       " 0,\n",
       " 1,\n",
       " 0,\n",
       " 0,\n",
       " 0,\n",
       " 0,\n",
       " 0,\n",
       " 0,\n",
       " 0,\n",
       " 0,\n",
       " 0,\n",
       " 0,\n",
       " 0,\n",
       " 0,\n",
       " 0,\n",
       " 0,\n",
       " 0,\n",
       " 0,\n",
       " 0,\n",
       " 0,\n",
       " 0,\n",
       " 0,\n",
       " 0,\n",
       " 1,\n",
       " 1,\n",
       " 1,\n",
       " 1,\n",
       " 1,\n",
       " 1,\n",
       " 1,\n",
       " 1,\n",
       " 1,\n",
       " 1,\n",
       " 1,\n",
       " 1,\n",
       " 1,\n",
       " 1,\n",
       " 1,\n",
       " 1,\n",
       " 0,\n",
       " 1,\n",
       " 0,\n",
       " 0,\n",
       " 0,\n",
       " 1,\n",
       " 0,\n",
       " 1,\n",
       " 0,\n",
       " 0,\n",
       " 0,\n",
       " 0,\n",
       " 0,\n",
       " 0,\n",
       " 0,\n",
       " 0,\n",
       " 0,\n",
       " 0,\n",
       " 0,\n",
       " 0,\n",
       " 0,\n",
       " 0,\n",
       " 0,\n",
       " 0,\n",
       " 0,\n",
       " 0,\n",
       " 0,\n",
       " 0,\n",
       " 0,\n",
       " 0,\n",
       " 0,\n",
       " 0,\n",
       " 0,\n",
       " 0,\n",
       " 0,\n",
       " 0,\n",
       " 0,\n",
       " 0,\n",
       " 0,\n",
       " 0,\n",
       " 0,\n",
       " 0,\n",
       " 0,\n",
       " 0,\n",
       " 0,\n",
       " 0,\n",
       " 0,\n",
       " 0,\n",
       " 0,\n",
       " 0,\n",
       " 0,\n",
       " 0,\n",
       " 0,\n",
       " 0,\n",
       " 0,\n",
       " 0,\n",
       " 0,\n",
       " 0,\n",
       " 0,\n",
       " 0,\n",
       " 0,\n",
       " 0,\n",
       " 0,\n",
       " 0,\n",
       " 0,\n",
       " 0,\n",
       " 0,\n",
       " 0,\n",
       " 0,\n",
       " 0,\n",
       " 0,\n",
       " 0,\n",
       " 0,\n",
       " 0,\n",
       " 0,\n",
       " 0,\n",
       " 0,\n",
       " 0,\n",
       " 0,\n",
       " 0,\n",
       " 0,\n",
       " 0,\n",
       " 0,\n",
       " 0,\n",
       " 0,\n",
       " 0,\n",
       " 0,\n",
       " 0,\n",
       " 0,\n",
       " 0,\n",
       " 0,\n",
       " 0,\n",
       " 0,\n",
       " 0,\n",
       " 0,\n",
       " 0,\n",
       " 0,\n",
       " 0,\n",
       " 0,\n",
       " 0,\n",
       " 0,\n",
       " 0,\n",
       " 0,\n",
       " 0,\n",
       " 1,\n",
       " 1,\n",
       " 1,\n",
       " 1,\n",
       " 1,\n",
       " 1,\n",
       " 1,\n",
       " 1,\n",
       " 1,\n",
       " 1,\n",
       " 1,\n",
       " 1,\n",
       " 1,\n",
       " 0,\n",
       " 1,\n",
       " 1,\n",
       " 0,\n",
       " 0,\n",
       " 0,\n",
       " 0,\n",
       " 0,\n",
       " 0,\n",
       " 0,\n",
       " 0,\n",
       " 0,\n",
       " 0,\n",
       " 0,\n",
       " 0,\n",
       " 0,\n",
       " 0,\n",
       " 0,\n",
       " 0,\n",
       " 0,\n",
       " 0,\n",
       " 0,\n",
       " 0,\n",
       " 0,\n",
       " 0,\n",
       " 0,\n",
       " 0,\n",
       " 0,\n",
       " 0,\n",
       " 0,\n",
       " 0,\n",
       " 0,\n",
       " 0,\n",
       " 0,\n",
       " 0,\n",
       " 0,\n",
       " 0,\n",
       " 0,\n",
       " 0,\n",
       " 0,\n",
       " 0,\n",
       " 0,\n",
       " 0,\n",
       " 0,\n",
       " 0,\n",
       " 0,\n",
       " 0,\n",
       " 0,\n",
       " 0,\n",
       " 0,\n",
       " 0,\n",
       " 0,\n",
       " 0,\n",
       " 0,\n",
       " 0,\n",
       " 0,\n",
       " 0,\n",
       " 0,\n",
       " 0,\n",
       " 0,\n",
       " 0,\n",
       " 0,\n",
       " 0,\n",
       " 0,\n",
       " 0,\n",
       " 0,\n",
       " 0,\n",
       " 0,\n",
       " 0,\n",
       " 0,\n",
       " 0,\n",
       " 0,\n",
       " 0,\n",
       " 0,\n",
       " 0,\n",
       " 0,\n",
       " 0,\n",
       " 0,\n",
       " 0,\n",
       " 0,\n",
       " 0,\n",
       " 0,\n",
       " 0,\n",
       " 0,\n",
       " 0,\n",
       " 0,\n",
       " 0,\n",
       " 0,\n",
       " 0,\n",
       " 0,\n",
       " 0,\n",
       " 0,\n",
       " 0,\n",
       " 0,\n",
       " 0,\n",
       " 0,\n",
       " 0,\n",
       " 0,\n",
       " 0,\n",
       " 0,\n",
       " 0,\n",
       " 0,\n",
       " 0,\n",
       " 1,\n",
       " 1,\n",
       " 1,\n",
       " 1,\n",
       " 1,\n",
       " 1,\n",
       " 1,\n",
       " 1,\n",
       " 1,\n",
       " 1,\n",
       " 1,\n",
       " 1,\n",
       " 1,\n",
       " 0,\n",
       " 0,\n",
       " 1,\n",
       " 1,\n",
       " 0,\n",
       " 0,\n",
       " 0,\n",
       " 0,\n",
       " 0,\n",
       " 0,\n",
       " 0,\n",
       " 0,\n",
       " 0,\n",
       " 0,\n",
       " 0,\n",
       " 0,\n",
       " 0,\n",
       " 0,\n",
       " 0,\n",
       " 0,\n",
       " 0,\n",
       " 0,\n",
       " 0,\n",
       " 0,\n",
       " 0,\n",
       " 0,\n",
       " 0,\n",
       " 0,\n",
       " 0,\n",
       " 0,\n",
       " 0,\n",
       " 0,\n",
       " 0,\n",
       " 0,\n",
       " 0,\n",
       " 0,\n",
       " 0,\n",
       " 0,\n",
       " 0,\n",
       " 0,\n",
       " 0,\n",
       " 0,\n",
       " 0,\n",
       " 0,\n",
       " 0,\n",
       " 0,\n",
       " 0,\n",
       " 0,\n",
       " 0,\n",
       " 0,\n",
       " 0,\n",
       " 0,\n",
       " 0,\n",
       " 0,\n",
       " 0,\n",
       " 0,\n",
       " 0,\n",
       " 0,\n",
       " 0,\n",
       " 0,\n",
       " 0,\n",
       " 0,\n",
       " 1,\n",
       " 1,\n",
       " 1,\n",
       " 1,\n",
       " 1,\n",
       " 1,\n",
       " 1,\n",
       " 1,\n",
       " 1,\n",
       " 1,\n",
       " 1,\n",
       " 1,\n",
       " 1,\n",
       " 0,\n",
       " 0,\n",
       " 0,\n",
       " 0,\n",
       " 1,\n",
       " 0,\n",
       " 0,\n",
       " 0,\n",
       " 0,\n",
       " 0,\n",
       " 0,\n",
       " 0,\n",
       " 0,\n",
       " 0,\n",
       " 0,\n",
       " 0,\n",
       " 0,\n",
       " 0,\n",
       " 0,\n",
       " 0,\n",
       " 0,\n",
       " 0,\n",
       " 0,\n",
       " 0,\n",
       " 0,\n",
       " 0,\n",
       " 0,\n",
       " 0,\n",
       " 0,\n",
       " 0,\n",
       " 0,\n",
       " 0,\n",
       " 0,\n",
       " 0,\n",
       " 0,\n",
       " 0,\n",
       " 0,\n",
       " 0,\n",
       " 0,\n",
       " 0,\n",
       " 0,\n",
       " 0,\n",
       " 0,\n",
       " 0,\n",
       " 0,\n",
       " 0,\n",
       " 0,\n",
       " 0,\n",
       " 0,\n",
       " 0,\n",
       " 0,\n",
       " 0,\n",
       " 0,\n",
       " 0,\n",
       " 0,\n",
       " 0,\n",
       " 0,\n",
       " 0,\n",
       " 1,\n",
       " 1,\n",
       " 1,\n",
       " 1,\n",
       " 1,\n",
       " 1,\n",
       " 1,\n",
       " 1,\n",
       " 1,\n",
       " 1,\n",
       " 1,\n",
       " 1,\n",
       " 1,\n",
       " 1,\n",
       " 0,\n",
       " 0,\n",
       " 0,\n",
       " 0,\n",
       " 0,\n",
       " 0,\n",
       " 0,\n",
       " 0,\n",
       " 0,\n",
       " 0,\n",
       " 0,\n",
       " 0,\n",
       " 0,\n",
       " 0,\n",
       " 0,\n",
       " 0,\n",
       " 0,\n",
       " 0,\n",
       " 0,\n",
       " 0,\n",
       " 0,\n",
       " 0,\n",
       " 0,\n",
       " 0,\n",
       " 0,\n",
       " 0,\n",
       " 0,\n",
       " 0,\n",
       " 0,\n",
       " 0,\n",
       " 0,\n",
       " 0,\n",
       " 0,\n",
       " 0,\n",
       " 0,\n",
       " 0,\n",
       " 0,\n",
       " 0,\n",
       " 0,\n",
       " 0,\n",
       " 0,\n",
       " 0,\n",
       " 0,\n",
       " 0,\n",
       " 0,\n",
       " 0,\n",
       " 0,\n",
       " 0,\n",
       " 0,\n",
       " 0,\n",
       " 0,\n",
       " 0,\n",
       " 0,\n",
       " 0,\n",
       " 0,\n",
       " 0,\n",
       " 0,\n",
       " 0,\n",
       " 0,\n",
       " 0,\n",
       " 0,\n",
       " 0,\n",
       " 0,\n",
       " 0,\n",
       " 0,\n",
       " 1,\n",
       " 1,\n",
       " 1,\n",
       " 1,\n",
       " 1,\n",
       " 1,\n",
       " 1,\n",
       " 1,\n",
       " 1,\n",
       " 1,\n",
       " 1,\n",
       " 1,\n",
       " 1,\n",
       " 1,\n",
       " 1,\n",
       " 0,\n",
       " 1,\n",
       " 0,\n",
       " 1,\n",
       " 0,\n",
       " 1,\n",
       " 0,\n",
       " 1,\n",
       " 0,\n",
       " 0,\n",
       " 0,\n",
       " 0,\n",
       " 0,\n",
       " 0,\n",
       " 0,\n",
       " 0,\n",
       " 0,\n",
       " 0,\n",
       " 0,\n",
       " 0,\n",
       " 0,\n",
       " 0,\n",
       " 0,\n",
       " 0,\n",
       " 0,\n",
       " 0,\n",
       " 0,\n",
       " 0,\n",
       " 0,\n",
       " 0,\n",
       " 0,\n",
       " 0,\n",
       " 0,\n",
       " 0,\n",
       " 0,\n",
       " 0,\n",
       " 0,\n",
       " 0,\n",
       " 0,\n",
       " 0,\n",
       " 0,\n",
       " 0,\n",
       " 0,\n",
       " 0,\n",
       " 0,\n",
       " 0,\n",
       " 0,\n",
       " 0,\n",
       " 0,\n",
       " 0,\n",
       " 0,\n",
       " 1,\n",
       " 1,\n",
       " 1,\n",
       " 1,\n",
       " 1,\n",
       " 1,\n",
       " 1,\n",
       " 1,\n",
       " 1,\n",
       " 1,\n",
       " 1,\n",
       " 1,\n",
       " 1,\n",
       " 1,\n",
       " 1,\n",
       " 0,\n",
       " 1,\n",
       " 0,\n",
       " 0,\n",
       " 0,\n",
       " 0,\n",
       " 0,\n",
       " 0,\n",
       " 0,\n",
       " 0,\n",
       " 0,\n",
       " 0,\n",
       " 0,\n",
       " 0,\n",
       " 0,\n",
       " 0,\n",
       " 0,\n",
       " 0,\n",
       " 0,\n",
       " 0,\n",
       " 0,\n",
       " 0,\n",
       " 0,\n",
       " 0,\n",
       " 0,\n",
       " 0,\n",
       " 0,\n",
       " 0,\n",
       " 0,\n",
       " 0,\n",
       " 0,\n",
       " 0,\n",
       " 0,\n",
       " 0,\n",
       " 0,\n",
       " 0,\n",
       " 0,\n",
       " 0,\n",
       " 0,\n",
       " 0,\n",
       " 1,\n",
       " 1,\n",
       " 1,\n",
       " 1,\n",
       " 1,\n",
       " 1,\n",
       " 1,\n",
       " 1,\n",
       " 1,\n",
       " 1,\n",
       " 1,\n",
       " 1,\n",
       " 1,\n",
       " 1,\n",
       " 0,\n",
       " 0,\n",
       " 0,\n",
       " 1,\n",
       " 0,\n",
       " 0,\n",
       " 0,\n",
       " 0,\n",
       " 0,\n",
       " 0,\n",
       " 0,\n",
       " 0,\n",
       " 0,\n",
       " 0,\n",
       " 0,\n",
       " 0,\n",
       " 0,\n",
       " 0,\n",
       " 0,\n",
       " 0,\n",
       " 0,\n",
       " 0,\n",
       " 0,\n",
       " 0,\n",
       " 0,\n",
       " 0,\n",
       " 0,\n",
       " 0,\n",
       " 0,\n",
       " 0,\n",
       " 0,\n",
       " 0,\n",
       " 0,\n",
       " 0,\n",
       " 0,\n",
       " 0,\n",
       " 0,\n",
       " 0,\n",
       " 0,\n",
       " 0,\n",
       " 0,\n",
       " 0,\n",
       " 0,\n",
       " 0,\n",
       " 0,\n",
       " 0,\n",
       " 0,\n",
       " 0,\n",
       " 0,\n",
       " 0,\n",
       " 0,\n",
       " 0,\n",
       " 0,\n",
       " 0,\n",
       " 0,\n",
       " 0,\n",
       " 0,\n",
       " 0,\n",
       " 0,\n",
       " 0,\n",
       " 0,\n",
       " 0,\n",
       " 0,\n",
       " 0,\n",
       " 0,\n",
       " 0,\n",
       " 0,\n",
       " 0,\n",
       " 0,\n",
       " 0,\n",
       " 0,\n",
       " 0,\n",
       " 0,\n",
       " 0,\n",
       " 0,\n",
       " 0,\n",
       " 0,\n",
       " 0,\n",
       " 0,\n",
       " 0,\n",
       " 0,\n",
       " 0,\n",
       " 0,\n",
       " 0,\n",
       " 0,\n",
       " 0,\n",
       " 0,\n",
       " 0,\n",
       " 0,\n",
       " 1,\n",
       " 1,\n",
       " 1,\n",
       " 1,\n",
       " 1,\n",
       " 1,\n",
       " 1,\n",
       " 1,\n",
       " 1,\n",
       " 1,\n",
       " 1,\n",
       " 0,\n",
       " 0,\n",
       " 0,\n",
       " 1,\n",
       " 1,\n",
       " 0,\n",
       " 0,\n",
       " 0,\n",
       " 0,\n",
       " 0,\n",
       " 0,\n",
       " 0,\n",
       " 0,\n",
       " 0,\n",
       " 0,\n",
       " 0,\n",
       " 0,\n",
       " 0,\n",
       " 0,\n",
       " 0,\n",
       " 0,\n",
       " 0,\n",
       " 0,\n",
       " 0,\n",
       " 0,\n",
       " 0,\n",
       " 0,\n",
       " 0,\n",
       " 0,\n",
       " 0,\n",
       " 0,\n",
       " 0,\n",
       " 0,\n",
       " 0,\n",
       " 0,\n",
       " 0,\n",
       " 0,\n",
       " 1,\n",
       " 1,\n",
       " 1,\n",
       " 1,\n",
       " 1,\n",
       " 1,\n",
       " 1,\n",
       " 0,\n",
       " 1,\n",
       " 1,\n",
       " 0,\n",
       " 0,\n",
       " 0,\n",
       " 0,\n",
       " 0,\n",
       " 0,\n",
       " 0,\n",
       " 0,\n",
       " 0,\n",
       " 0,\n",
       " 0,\n",
       " 0,\n",
       " 0,\n",
       " 0,\n",
       " 0,\n",
       " 0,\n",
       " 0,\n",
       " 0,\n",
       " 0,\n",
       " 0,\n",
       " 0,\n",
       " 0,\n",
       " 0,\n",
       " 0,\n",
       " 0,\n",
       " 0,\n",
       " 0,\n",
       " 0,\n",
       " 0,\n",
       " 0,\n",
       " 0,\n",
       " 0,\n",
       " 0,\n",
       " 0,\n",
       " 0,\n",
       " 0,\n",
       " 0,\n",
       " 0,\n",
       " 0,\n",
       " 0,\n",
       " 0,\n",
       " 0,\n",
       " 0,\n",
       " 0,\n",
       " 0,\n",
       " 0,\n",
       " 0,\n",
       " 0,\n",
       " 0,\n",
       " 0,\n",
       " 0,\n",
       " 0,\n",
       " 0,\n",
       " 0,\n",
       " 0,\n",
       " 0,\n",
       " 0,\n",
       " 0,\n",
       " 0,\n",
       " 0,\n",
       " 0,\n",
       " 0,\n",
       " 0,\n",
       " 0,\n",
       " 0,\n",
       " 0,\n",
       " 0,\n",
       " 0,\n",
       " 1,\n",
       " 1,\n",
       " 1,\n",
       " 1,\n",
       " 1,\n",
       " 1,\n",
       " 1,\n",
       " 1,\n",
       " 1,\n",
       " 1,\n",
       " 1,\n",
       " 1,\n",
       " 1,\n",
       " 1,\n",
       " 1,\n",
       " 1,\n",
       " 1,\n",
       " 0,\n",
       " 1,\n",
       " 0,\n",
       " 0,\n",
       " 1,\n",
       " 0,\n",
       " 0,\n",
       " 0,\n",
       " 0,\n",
       " 0,\n",
       " 0,\n",
       " 0,\n",
       " 0,\n",
       " 0,\n",
       " 0,\n",
       " 0,\n",
       " 0,\n",
       " 0,\n",
       " 0,\n",
       " 0,\n",
       " 0,\n",
       " 0,\n",
       " 0,\n",
       " 0,\n",
       " 0,\n",
       " 0,\n",
       " 0,\n",
       " 0,\n",
       " 0,\n",
       " 0,\n",
       " 0,\n",
       " 0,\n",
       " 0,\n",
       " 0,\n",
       " 0,\n",
       " 0,\n",
       " 0,\n",
       " 0,\n",
       " 0,\n",
       " 0,\n",
       " 0,\n",
       " 0,\n",
       " 0,\n",
       " 0,\n",
       " 0,\n",
       " 0,\n",
       " 0,\n",
       " 0,\n",
       " 0,\n",
       " 0,\n",
       " 0,\n",
       " 0,\n",
       " 0,\n",
       " 0,\n",
       " 0,\n",
       " 0,\n",
       " 0,\n",
       " 0,\n",
       " 0,\n",
       " 0,\n",
       " 0,\n",
       " 0,\n",
       " 0,\n",
       " 0,\n",
       " 0,\n",
       " 0,\n",
       " 0,\n",
       " 0,\n",
       " 0,\n",
       " 0,\n",
       " 0,\n",
       " 0,\n",
       " 0,\n",
       " 0,\n",
       " 0,\n",
       " 0,\n",
       " 0,\n",
       " 0,\n",
       " 0,\n",
       " 0,\n",
       " 0,\n",
       " 0,\n",
       " 0,\n",
       " 0,\n",
       " 0,\n",
       " 0,\n",
       " 0,\n",
       " 0,\n",
       " 0,\n",
       " 0,\n",
       " 0,\n",
       " 0,\n",
       " 0,\n",
       " 0,\n",
       " 0,\n",
       " 0,\n",
       " 0,\n",
       " 0,\n",
       " 0,\n",
       " 0,\n",
       " 0,\n",
       " 0,\n",
       " 0,\n",
       " 0,\n",
       " 0,\n",
       " 0,\n",
       " ...]"
      ]
     },
     "execution_count": 277,
     "metadata": {
      "tags": []
     },
     "output_type": "execute_result"
    }
   ],
   "source": [
    "predictions"
   ]
  },
  {
   "cell_type": "code",
   "execution_count": 0,
   "metadata": {
    "colab": {},
    "colab_type": "code",
    "id": "L9COoWV5rm3_"
   },
   "outputs": [],
   "source": [
    "sam_sub=pd.DataFrame()\n",
    "sam_sub['ID']=ids['ID']"
   ]
  },
  {
   "cell_type": "code",
   "execution_count": 279,
   "metadata": {
    "colab": {
     "base_uri": "https://localhost:8080/",
     "height": 198
    },
    "colab_type": "code",
    "id": "6qF2RFkesEnq",
    "outputId": "be58e226-e5ca-4bbd-c718-f62173304f9c"
   },
   "outputs": [
    {
     "data": {
      "text/html": [
       "<div>\n",
       "<style scoped>\n",
       "    .dataframe tbody tr th:only-of-type {\n",
       "        vertical-align: middle;\n",
       "    }\n",
       "\n",
       "    .dataframe tbody tr th {\n",
       "        vertical-align: top;\n",
       "    }\n",
       "\n",
       "    .dataframe thead th {\n",
       "        text-align: right;\n",
       "    }\n",
       "</style>\n",
       "<table border=\"1\" class=\"dataframe\">\n",
       "  <thead>\n",
       "    <tr style=\"text-align: right;\">\n",
       "      <th></th>\n",
       "      <th>ID</th>\n",
       "    </tr>\n",
       "  </thead>\n",
       "  <tbody>\n",
       "    <tr>\n",
       "      <th>0</th>\n",
       "      <td>FIN1009528</td>\n",
       "    </tr>\n",
       "    <tr>\n",
       "      <th>1</th>\n",
       "      <td>FIN1009529</td>\n",
       "    </tr>\n",
       "    <tr>\n",
       "      <th>2</th>\n",
       "      <td>FIN1009530</td>\n",
       "    </tr>\n",
       "    <tr>\n",
       "      <th>3</th>\n",
       "      <td>FIN1009531</td>\n",
       "    </tr>\n",
       "    <tr>\n",
       "      <th>4</th>\n",
       "      <td>FIN1009532</td>\n",
       "    </tr>\n",
       "  </tbody>\n",
       "</table>\n",
       "</div>"
      ],
      "text/plain": [
       "           ID\n",
       "0  FIN1009528\n",
       "1  FIN1009529\n",
       "2  FIN1009530\n",
       "3  FIN1009531\n",
       "4  FIN1009532"
      ]
     },
     "execution_count": 279,
     "metadata": {
      "tags": []
     },
     "output_type": "execute_result"
    }
   ],
   "source": [
    "sam_sub.head()"
   ]
  },
  {
   "cell_type": "code",
   "execution_count": 0,
   "metadata": {
    "colab": {},
    "colab_type": "code",
    "id": "l4uyUTClrvmI"
   },
   "outputs": [],
   "source": [
    "sam_sub['Business_Sourced']=predictions"
   ]
  },
  {
   "cell_type": "code",
   "execution_count": 281,
   "metadata": {
    "colab": {
     "base_uri": "https://localhost:8080/",
     "height": 198
    },
    "colab_type": "code",
    "id": "DIAUAJror5hW",
    "outputId": "f4cfdf80-c1f8-4682-a7a3-a6e07bbdf9e3"
   },
   "outputs": [
    {
     "data": {
      "text/html": [
       "<div>\n",
       "<style scoped>\n",
       "    .dataframe tbody tr th:only-of-type {\n",
       "        vertical-align: middle;\n",
       "    }\n",
       "\n",
       "    .dataframe tbody tr th {\n",
       "        vertical-align: top;\n",
       "    }\n",
       "\n",
       "    .dataframe thead th {\n",
       "        text-align: right;\n",
       "    }\n",
       "</style>\n",
       "<table border=\"1\" class=\"dataframe\">\n",
       "  <thead>\n",
       "    <tr style=\"text-align: right;\">\n",
       "      <th></th>\n",
       "      <th>ID</th>\n",
       "      <th>Business_Sourced</th>\n",
       "    </tr>\n",
       "  </thead>\n",
       "  <tbody>\n",
       "    <tr>\n",
       "      <th>0</th>\n",
       "      <td>FIN1009528</td>\n",
       "      <td>1</td>\n",
       "    </tr>\n",
       "    <tr>\n",
       "      <th>1</th>\n",
       "      <td>FIN1009529</td>\n",
       "      <td>1</td>\n",
       "    </tr>\n",
       "    <tr>\n",
       "      <th>2</th>\n",
       "      <td>FIN1009530</td>\n",
       "      <td>1</td>\n",
       "    </tr>\n",
       "    <tr>\n",
       "      <th>3</th>\n",
       "      <td>FIN1009531</td>\n",
       "      <td>1</td>\n",
       "    </tr>\n",
       "    <tr>\n",
       "      <th>4</th>\n",
       "      <td>FIN1009532</td>\n",
       "      <td>1</td>\n",
       "    </tr>\n",
       "  </tbody>\n",
       "</table>\n",
       "</div>"
      ],
      "text/plain": [
       "           ID  Business_Sourced\n",
       "0  FIN1009528                 1\n",
       "1  FIN1009529                 1\n",
       "2  FIN1009530                 1\n",
       "3  FIN1009531                 1\n",
       "4  FIN1009532                 1"
      ]
     },
     "execution_count": 281,
     "metadata": {
      "tags": []
     },
     "output_type": "execute_result"
    }
   ],
   "source": [
    "sam_sub.head()"
   ]
  },
  {
   "cell_type": "code",
   "execution_count": 282,
   "metadata": {
    "colab": {
     "base_uri": "https://localhost:8080/",
     "height": 34
    },
    "colab_type": "code",
    "id": "oQdgoMzRs-Ky",
    "outputId": "76b65844-5657-4427-db99-96b475b3407c"
   },
   "outputs": [
    {
     "data": {
      "text/plain": [
       "(5045, 2)"
      ]
     },
     "execution_count": 282,
     "metadata": {
      "tags": []
     },
     "output_type": "execute_result"
    }
   ],
   "source": [
    "sam_sub.shape"
   ]
  },
  {
   "cell_type": "code",
   "execution_count": 0,
   "metadata": {
    "colab": {},
    "colab_type": "code",
    "id": "tBYg3LRBsaK4"
   },
   "outputs": [],
   "source": [
    "sam_sub.to_csv('/content/drive/My Drive/sample_submission.csv')"
   ]
  }
 ],
 "metadata": {
  "accelerator": "GPU",
  "colab": {
   "collapsed_sections": [],
   "name": "InitiateAI - Final Assessment.ipynb",
   "provenance": []
  },
  "kernelspec": {
   "display_name": "Python 3",
   "language": "python",
   "name": "python3"
  },
  "language_info": {
   "codemirror_mode": {
    "name": "ipython",
    "version": 3
   },
   "file_extension": ".py",
   "mimetype": "text/x-python",
   "name": "python",
   "nbconvert_exporter": "python",
   "pygments_lexer": "ipython3",
   "version": "3.7.3"
  }
 },
 "nbformat": 4,
 "nbformat_minor": 1
}
